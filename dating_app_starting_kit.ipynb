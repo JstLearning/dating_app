{
 "cells": [
  {
   "cell_type": "markdown",
   "metadata": {},
   "source": [
    "# Ramp on predicting likes in Dating Apps\n",
    "\n",
    "Charlotte Cournon, Solène Debuysère, Godefroy Du Chalard, Yanis Lalou, Agathe Minaro, Luka Trailovic"
   ]
  },
  {
   "cell_type": "markdown",
   "metadata": {},
   "source": [
    "## Table of Contents\n",
    "\n",
    "1. Introduction\n",
    "2. Getting started with the RAMP Starting Kit\n",
    "    1. Software prerequisites\n",
    "    2. Downloading the data\n",
    "3. The Data\n",
    "    1. Getting the data\n",
    "    2. Preprocessing the data\n",
    "4. Workflow\n",
    "5. Submitting to the online challenge: ramp.studio\n",
    "    \n"
   ]
  },
  {
   "cell_type": "markdown",
   "metadata": {},
   "source": [
    "## Introduction"
   ]
  },
  {
   "cell_type": "markdown",
   "metadata": {},
   "source": [
    "<div class=\"alert alert-info\">\n",
    "\n",
    "Our society is evolving, becoming more complex, more intensive and, above all, more numeric. In today’s digital era, social media platforms have become an omnipresent part in our daily life. Sharing, liking, commenting and posting are the basic actions to show our interest in other people's passions or to simply share our own.\n",
    "Very quickly, new types of social networks have emerged, for example to create professional networks, to talk anonymously or to date. In fact, these dating applications are used on a much larger scale than one might think, and therefore bring many challenges with their use.\n",
    "\n",
    "As dating apps such as Tinder or Lovoo grew in popularity, individuals sought to optimize their profiles to improve their scores of receiving more matches and potential connections.\n",
    "\n",
    "<br><br>**This challenge is about Lovoo, but one may wonder what Lovoo is.**<br>\n",
    "Lovoo is not just a dating app, it allows users to chat with new people, meet attractive singles, and enjoy live videos in real-time. It is originally a website that was expanding in European countries during spring 2015. In parallel, Tinder was growing in popularity in America and Europe thus accentuating the competition between the dating applications. At that time, Lovoo's iOS app was in version 3 and has been improving ever since. Thanks to a constant betterment of its data and algorithms, this app prioritized mutual attraction as a prerequisite for any communication between two people. It is in the interest of Lovoo to reinforce the importance of making a favorable first impression.\n",
    "    \n",
    "Moreover, captivating, charismatic and inspiring people have long held a fascination for us, as they often command more followers and listeners. Social networks utilize various metrics, such as the number of friends or followers, to gauge an individual's potential charisma. This latter indicator, often hidden by dating applications, is a keystone of meetings’ optimization between users.\n",
    "    \n",
    "    \n",
    "<br><br>**The motivation :**\n",
    "\n",
    "This Lovoo dataset provides valuable insights into a range of numerical data from the app, such as the gender or the age of the person, or even more specific information as can be the vip subscription or the last online date.\n",
    "These features, combined with each other or with external information, could quantify other characteristics that are not numerical including popularity, charisma, census, as well as statistics about the interests of dating app users. To delve deeper into these questions, we may explore questions such as what factors constitute a great user profile, how to craft a compelling first impression to increase matches and forge new connections, what traits contribute to a person's charisma, and how charismatic individuals present themselves.\n",
    "\n",
    "<br><br>**The dataset :**\n",
    "\n",
    "The dataset contains information about user profiles on Lovoo. It also includes additional information about user profile pictures, which were collected to investigate potential correlations between a profile picture and the success or reputation of a profile. \n",
    "\n",
    "It was hypothesized that a profile picture could significantly impact metrics such as the number of profile visits and matches due to the importance of first impressions. However, only a small part of a user's profile is visible when browsing through a list of users. Furthermore, we can note that the recommendation algorithm consistently produced the same set of user profiles, suggesting that Lovoo's algorithm heavily relied on location settings and potentially cookies. Therefore, the dataset may lack a diverse range of user profiles.\n",
    "\n",
    "<br><br>**The challenge :**\n",
    "\n",
    "The objective of this RAMP challenge is to investigate these questions by collecting user profile data and metrics in order to better understand user behaviours and relationships on Lovoo.\n",
    "It proposes designing the best algorithm to **predict the number of likes for each user profile**. The dataset, which includes 31 features for 3193 users, will be provided to the participants for testing and calibration of their algorithm. Additionally, after removing the features that we did not consider important, we have pre-processed several other features so that the challenge can be quickly taken up.\n",
    "\n",
    "</div>"
   ]
  },
  {
   "cell_type": "markdown",
   "metadata": {},
   "source": [
    "## Getting started with the RAMP Starting Kit\n",
    "### Software prerequisites"
   ]
  },
  {
   "cell_type": "markdown",
   "metadata": {},
   "source": [
    "This starting kit requires several packages, to install them, you can directly run from the root of the starting kit:\n",
    "    \n",
    "    pip install -r requirements.txt"
   ]
  },
  {
   "cell_type": "markdown",
   "metadata": {},
   "source": [
    "### Getting the data\n",
    "\n",
    "To download the public data, you can run from the root of the starting kit:\n",
    "\n",
    "    python download_data.py"
   ]
  },
  {
   "cell_type": "code",
   "execution_count": 34,
   "metadata": {},
   "outputs": [],
   "source": [
    "%matplotlib inline\n",
    "\n",
    "import pandas as pd\n",
    "import numpy as np\n",
    "import matplotlib.pyplot as plt\n",
    "import seaborn as sns"
   ]
  },
  {
   "cell_type": "markdown",
   "metadata": {},
   "source": [
    "## The Data"
   ]
  },
  {
   "cell_type": "markdown",
   "metadata": {},
   "source": [
    "### Get the data and Preprocessing it"
   ]
  },
  {
   "cell_type": "code",
   "execution_count": 35,
   "metadata": {},
   "outputs": [],
   "source": [
    "from problem import get_train_data, get_test_data"
   ]
  },
  {
   "cell_type": "code",
   "execution_count": 36,
   "metadata": {},
   "outputs": [
    {
     "name": "stderr",
     "output_type": "stream",
     "text": [
      "/Users/yanislalou/Documents/M2_DS_IPP/Datacamp/projet_groupe/dating_app/problem.py:104: FutureWarning: casting datetime64[ns] values to int64 with .astype(...) is deprecated and will raise in a future version. Use .view(...) instead.\n",
      "  df[\"lastOnlineDate\"] = df[\"lastOnlineDate\"].astype(\"int64\")\n"
     ]
    }
   ],
   "source": [
    "data_train, target_train = get_train_data()\n",
    "data_test, target_test = get_test_data()"
   ]
  },
  {
   "cell_type": "code",
   "execution_count": 37,
   "metadata": {},
   "outputs": [
    {
     "data": {
      "text/html": [
       "<div>\n",
       "<style scoped>\n",
       "    .dataframe tbody tr th:only-of-type {\n",
       "        vertical-align: middle;\n",
       "    }\n",
       "\n",
       "    .dataframe tbody tr th {\n",
       "        vertical-align: top;\n",
       "    }\n",
       "\n",
       "    .dataframe thead th {\n",
       "        text-align: right;\n",
       "    }\n",
       "</style>\n",
       "<table border=\"1\" class=\"dataframe\">\n",
       "  <thead>\n",
       "    <tr style=\"text-align: right;\">\n",
       "      <th></th>\n",
       "      <th>gender</th>\n",
       "      <th>genderLooking</th>\n",
       "      <th>age</th>\n",
       "      <th>counts_details</th>\n",
       "      <th>counts_pictures</th>\n",
       "      <th>counts_fans</th>\n",
       "      <th>flirtInterests_chat</th>\n",
       "      <th>flirtInterests_friends</th>\n",
       "      <th>flirtInterests_date</th>\n",
       "      <th>country</th>\n",
       "      <th>...</th>\n",
       "      <th>verified</th>\n",
       "      <th>shareProfileEnabled</th>\n",
       "      <th>lastOnlineDate</th>\n",
       "      <th>lastOnlineTime</th>\n",
       "      <th>birthd</th>\n",
       "      <th>connectedToFacebook</th>\n",
       "      <th>locationCity</th>\n",
       "      <th>Latitude</th>\n",
       "      <th>Longitude</th>\n",
       "      <th>description</th>\n",
       "    </tr>\n",
       "    <tr>\n",
       "      <th>userId</th>\n",
       "      <th></th>\n",
       "      <th></th>\n",
       "      <th></th>\n",
       "      <th></th>\n",
       "      <th></th>\n",
       "      <th></th>\n",
       "      <th></th>\n",
       "      <th></th>\n",
       "      <th></th>\n",
       "      <th></th>\n",
       "      <th></th>\n",
       "      <th></th>\n",
       "      <th></th>\n",
       "      <th></th>\n",
       "      <th></th>\n",
       "      <th></th>\n",
       "      <th></th>\n",
       "      <th></th>\n",
       "      <th></th>\n",
       "      <th></th>\n",
       "      <th></th>\n",
       "    </tr>\n",
       "  </thead>\n",
       "  <tbody>\n",
       "    <tr>\n",
       "      <th>535585c9140ba0be2a8b4ec4</th>\n",
       "      <td>0</td>\n",
       "      <td>3</td>\n",
       "      <td>24</td>\n",
       "      <td>0.90</td>\n",
       "      <td>10</td>\n",
       "      <td>0</td>\n",
       "      <td>1</td>\n",
       "      <td>1</td>\n",
       "      <td>1</td>\n",
       "      <td>8</td>\n",
       "      <td>...</td>\n",
       "      <td>0</td>\n",
       "      <td>1</td>\n",
       "      <td>1430092800000000000</td>\n",
       "      <td>1.430163e+09</td>\n",
       "      <td>0</td>\n",
       "      <td>0.0</td>\n",
       "      <td>Marktheidenfeld</td>\n",
       "      <td>49.845280</td>\n",
       "      <td>9.606720</td>\n",
       "      <td>1</td>\n",
       "    </tr>\n",
       "    <tr>\n",
       "      <th>535c9b2f190ba04c408b7cc1</th>\n",
       "      <td>0</td>\n",
       "      <td>3</td>\n",
       "      <td>22</td>\n",
       "      <td>0.80</td>\n",
       "      <td>3</td>\n",
       "      <td>0</td>\n",
       "      <td>0</td>\n",
       "      <td>0</td>\n",
       "      <td>1</td>\n",
       "      <td>7</td>\n",
       "      <td>...</td>\n",
       "      <td>0</td>\n",
       "      <td>1</td>\n",
       "      <td>1430006400000000000</td>\n",
       "      <td>1.430035e+09</td>\n",
       "      <td>0</td>\n",
       "      <td>0.0</td>\n",
       "      <td>Bern</td>\n",
       "      <td>46.948271</td>\n",
       "      <td>7.451451</td>\n",
       "      <td>0</td>\n",
       "    </tr>\n",
       "    <tr>\n",
       "      <th>54d78595c86da1302f8b48b0</th>\n",
       "      <td>0</td>\n",
       "      <td>1</td>\n",
       "      <td>25</td>\n",
       "      <td>0.96</td>\n",
       "      <td>15</td>\n",
       "      <td>0</td>\n",
       "      <td>1</td>\n",
       "      <td>0</td>\n",
       "      <td>0</td>\n",
       "      <td>7</td>\n",
       "      <td>...</td>\n",
       "      <td>1</td>\n",
       "      <td>1</td>\n",
       "      <td>1428278400000000000</td>\n",
       "      <td>1.428320e+09</td>\n",
       "      <td>0</td>\n",
       "      <td>NaN</td>\n",
       "      <td>NaN</td>\n",
       "      <td>46.314475</td>\n",
       "      <td>11.048029</td>\n",
       "      <td>1</td>\n",
       "    </tr>\n",
       "    <tr>\n",
       "      <th>537e5414190ba0ee648b4db1</th>\n",
       "      <td>0</td>\n",
       "      <td>1</td>\n",
       "      <td>20</td>\n",
       "      <td>0.73</td>\n",
       "      <td>22</td>\n",
       "      <td>4</td>\n",
       "      <td>0</td>\n",
       "      <td>1</td>\n",
       "      <td>0</td>\n",
       "      <td>13</td>\n",
       "      <td>...</td>\n",
       "      <td>0</td>\n",
       "      <td>1</td>\n",
       "      <td>1428451200000000000</td>\n",
       "      <td>1.428506e+09</td>\n",
       "      <td>0</td>\n",
       "      <td>0.0</td>\n",
       "      <td>Borgomanero</td>\n",
       "      <td>45.698911</td>\n",
       "      <td>8.462367</td>\n",
       "      <td>0</td>\n",
       "    </tr>\n",
       "    <tr>\n",
       "      <th>53055430cb6da17a878b49b6</th>\n",
       "      <td>0</td>\n",
       "      <td>1</td>\n",
       "      <td>22</td>\n",
       "      <td>1.00</td>\n",
       "      <td>3</td>\n",
       "      <td>0</td>\n",
       "      <td>1</td>\n",
       "      <td>0</td>\n",
       "      <td>0</td>\n",
       "      <td>13</td>\n",
       "      <td>...</td>\n",
       "      <td>0</td>\n",
       "      <td>1</td>\n",
       "      <td>1428883200000000000</td>\n",
       "      <td>1.428887e+09</td>\n",
       "      <td>0</td>\n",
       "      <td>0.0</td>\n",
       "      <td>Ghemme</td>\n",
       "      <td>45.598346</td>\n",
       "      <td>8.420903</td>\n",
       "      <td>1</td>\n",
       "    </tr>\n",
       "  </tbody>\n",
       "</table>\n",
       "<p>5 rows × 34 columns</p>\n",
       "</div>"
      ],
      "text/plain": [
       "                          gender  genderLooking  age  counts_details  \\\n",
       "userId                                                                 \n",
       "535585c9140ba0be2a8b4ec4       0              3   24            0.90   \n",
       "535c9b2f190ba04c408b7cc1       0              3   22            0.80   \n",
       "54d78595c86da1302f8b48b0       0              1   25            0.96   \n",
       "537e5414190ba0ee648b4db1       0              1   20            0.73   \n",
       "53055430cb6da17a878b49b6       0              1   22            1.00   \n",
       "\n",
       "                          counts_pictures  counts_fans  flirtInterests_chat  \\\n",
       "userId                                                                        \n",
       "535585c9140ba0be2a8b4ec4               10            0                    1   \n",
       "535c9b2f190ba04c408b7cc1                3            0                    0   \n",
       "54d78595c86da1302f8b48b0               15            0                    1   \n",
       "537e5414190ba0ee648b4db1               22            4                    0   \n",
       "53055430cb6da17a878b49b6                3            0                    1   \n",
       "\n",
       "                          flirtInterests_friends  flirtInterests_date  \\\n",
       "userId                                                                  \n",
       "535585c9140ba0be2a8b4ec4                       1                    1   \n",
       "535c9b2f190ba04c408b7cc1                       0                    1   \n",
       "54d78595c86da1302f8b48b0                       0                    0   \n",
       "537e5414190ba0ee648b4db1                       1                    0   \n",
       "53055430cb6da17a878b49b6                       0                    0   \n",
       "\n",
       "                          country  ...  verified  shareProfileEnabled  \\\n",
       "userId                             ...                                  \n",
       "535585c9140ba0be2a8b4ec4        8  ...         0                    1   \n",
       "535c9b2f190ba04c408b7cc1        7  ...         0                    1   \n",
       "54d78595c86da1302f8b48b0        7  ...         1                    1   \n",
       "537e5414190ba0ee648b4db1       13  ...         0                    1   \n",
       "53055430cb6da17a878b49b6       13  ...         0                    1   \n",
       "\n",
       "                               lastOnlineDate  lastOnlineTime  birthd  \\\n",
       "userId                                                                  \n",
       "535585c9140ba0be2a8b4ec4  1430092800000000000    1.430163e+09       0   \n",
       "535c9b2f190ba04c408b7cc1  1430006400000000000    1.430035e+09       0   \n",
       "54d78595c86da1302f8b48b0  1428278400000000000    1.428320e+09       0   \n",
       "537e5414190ba0ee648b4db1  1428451200000000000    1.428506e+09       0   \n",
       "53055430cb6da17a878b49b6  1428883200000000000    1.428887e+09       0   \n",
       "\n",
       "                          connectedToFacebook     locationCity   Latitude  \\\n",
       "userId                                                                      \n",
       "535585c9140ba0be2a8b4ec4                  0.0  Marktheidenfeld  49.845280   \n",
       "535c9b2f190ba04c408b7cc1                  0.0             Bern  46.948271   \n",
       "54d78595c86da1302f8b48b0                  NaN              NaN  46.314475   \n",
       "537e5414190ba0ee648b4db1                  0.0      Borgomanero  45.698911   \n",
       "53055430cb6da17a878b49b6                  0.0           Ghemme  45.598346   \n",
       "\n",
       "                          Longitude  description  \n",
       "userId                                            \n",
       "535585c9140ba0be2a8b4ec4   9.606720            1  \n",
       "535c9b2f190ba04c408b7cc1   7.451451            0  \n",
       "54d78595c86da1302f8b48b0  11.048029            1  \n",
       "537e5414190ba0ee648b4db1   8.462367            0  \n",
       "53055430cb6da17a878b49b6   8.420903            1  \n",
       "\n",
       "[5 rows x 34 columns]"
      ]
     },
     "execution_count": 37,
     "metadata": {},
     "output_type": "execute_result"
    }
   ],
   "source": [
    "data_train.head()"
   ]
  },
  {
   "cell_type": "code",
   "execution_count": 38,
   "metadata": {},
   "outputs": [
    {
     "data": {
      "text/plain": [
       "Index(['gender', 'genderLooking', 'age', 'counts_details', 'counts_pictures',\n",
       "       'counts_fans', 'flirtInterests_chat', 'flirtInterests_friends',\n",
       "       'flirtInterests_date', 'country', 'isFlirtstar', 'isHighlighted',\n",
       "       'isInfluencer', 'isMobile', 'isNew', 'isOnline', 'isVip', 'lang_count',\n",
       "       'lang_fr', 'lang_en', 'lang_de', 'lang_it', 'lang_es', 'lang_pt',\n",
       "       'verified', 'shareProfileEnabled', 'lastOnlineDate', 'lastOnlineTime',\n",
       "       'birthd', 'connectedToFacebook', 'locationCity', 'Latitude',\n",
       "       'Longitude', 'description'],\n",
       "      dtype='object')"
      ]
     },
     "execution_count": 38,
     "metadata": {},
     "output_type": "execute_result"
    }
   ],
   "source": [
    "data_train.columns"
   ]
  },
  {
   "cell_type": "markdown",
   "metadata": {},
   "source": [
    "<div class=\"alert alert-block alert-danger\">\n",
    "<span style=\"color:black\"> <b>Description of each column</b>\n",
    "</div>"
   ]
  },
  {
   "cell_type": "markdown",
   "metadata": {},
   "source": [
    "- gender : user's gender: F for female\n",
    "- genderLooking : gender the user indicated an interest for\n",
    "- age : user age\n",
    "- counts_details : number of information on a user profil\n",
    "- counts_pictures : number of pictures on the user's profile\n",
    "- counts_fans : Number of followers\n",
    "- flirtInterests_chat : Whether the user indicated being in search for people to chat with\n",
    "- flirtInterests_friends : Whether the user indicated being open to making friends\n",
    "- flirtInterests_date : Whether the user indicated being open to dating people\n",
    "- country : user's country\n",
    "- isFlirtstar : Whether the user account that fetched the dataset \"liked\" this user's profile. Playing around with \"liking\" profiles while fetching a dataset could help better understand the site's recommendation algorithm\n",
    "- isHighlighted : Whether the user's profile is currently highlighted (at fetch time). A user can use in-app currency to have one's profile temporarily highlighted and get more impressions/matches\n",
    "- isInfluencer : whether this is an influencer account\n",
    "- isMobile : whether the user uses the mobile app\n",
    "- isNew’: the user account is recently created\n",
    "- isOnline : whether the user was connected at time of fetch \n",
    "- isVip : 1 if the user is VIP. It was possible to buy a VIP status with real money. This status came with benefits\n",
    "- lang_count : Number of languages the user knows\n",
    "- lang_fr : whether the user knows french\n",
    "- lang_en : whether the user knows english \n",
    "- lang_de : whether the user knows german\n",
    "- lang_it : whether the user knows italian\n",
    "- lang_es : whether the user knows spanish\n",
    "- lang_pt : whether the user knows portuguese\n",
    "- verified : whether the user's account was verified through one of the methods (Facebook, phone number)\n",
    "- shareProfileEnabled : user allows her profile to be shared\n",
    "- lastOnlineDate : last login time of the user. One login session can last several hours \n",
    "- lastOnlineTime : last login time the user was connected, as timestamp.\n",
    "- birthd : whether the user's birthday is today (time of fetch)\n",
    "- connectedToFacebook : 0 or 1 (connected to facebook or not)\n",
    "- description : User status message (main status message) : 0 (no description) ou 1 (description)"
   ]
  },
  {
   "cell_type": "markdown",
   "metadata": {},
   "source": [
    "<div>\n",
    "<span style=\"color:black\"> <b>Explication of the preprocessing of each column</b>\n",
    "</div>\n"
   ]
  },
  {
   "cell_type": "markdown",
   "metadata": {},
   "source": [
    "The data used for this challenge comes from the websites data world which provides a large amount of various datasets. Two diferent datasets giving informations about lovoo users have been used. The second dataset contains informations about less users than the first one. \n",
    "\n",
    "Also, a lot of informations are duplicated in both datasets. Therefore, we first deleted redundant informations and then merged the two datasets on the user's Ids. We also deleted features we judged useless or for which ones we did not have description. \n",
    "\n",
    "Also, we converted boolean features to binar ones (0 for False and 1 for True). For the features gender and genderLooking we converted 'F' and 'M' into 0 and 1. Also, we converted the 'both' values of genderLooking into 2 and the none into 3. In addition, we changed the description feature (named 'whazzup' in the original dataset) to 0 if empty and 1 else.\n",
    "\n",
    "We kept two features string format : the country and city ones. The others features are all in numerical formats."
   ]
  },
  {
   "cell_type": "code",
   "execution_count": 39,
   "metadata": {},
   "outputs": [
    {
     "name": "stdout",
     "output_type": "stream",
     "text": [
      "<class 'pandas.core.frame.DataFrame'>\n",
      "Index: 3193 entries, 535585c9140ba0be2a8b4ec4 to 55204d28076ea157768b48da\n",
      "Data columns (total 34 columns):\n",
      " #   Column                  Non-Null Count  Dtype  \n",
      "---  ------                  --------------  -----  \n",
      " 0   gender                  3193 non-null   int64  \n",
      " 1   genderLooking           3193 non-null   int64  \n",
      " 2   age                     3193 non-null   int64  \n",
      " 3   counts_details          3193 non-null   float64\n",
      " 4   counts_pictures         3193 non-null   int64  \n",
      " 5   counts_fans             3193 non-null   int64  \n",
      " 6   flirtInterests_chat     3193 non-null   int64  \n",
      " 7   flirtInterests_friends  3193 non-null   int64  \n",
      " 8   flirtInterests_date     3193 non-null   int64  \n",
      " 9   country                 3193 non-null   int8   \n",
      " 10  isFlirtstar             3193 non-null   int64  \n",
      " 11  isHighlighted           3193 non-null   int64  \n",
      " 12  isInfluencer            3193 non-null   int64  \n",
      " 13  isMobile                3193 non-null   int64  \n",
      " 14  isNew                   3193 non-null   int64  \n",
      " 15  isOnline                3193 non-null   int64  \n",
      " 16  isVip                   3193 non-null   int64  \n",
      " 17  lang_count              3193 non-null   int64  \n",
      " 18  lang_fr                 3193 non-null   int64  \n",
      " 19  lang_en                 3193 non-null   int64  \n",
      " 20  lang_de                 3193 non-null   int64  \n",
      " 21  lang_it                 3193 non-null   int64  \n",
      " 22  lang_es                 3193 non-null   int64  \n",
      " 23  lang_pt                 3193 non-null   int64  \n",
      " 24  verified                3193 non-null   int64  \n",
      " 25  shareProfileEnabled     3193 non-null   int64  \n",
      " 26  lastOnlineDate          3193 non-null   int64  \n",
      " 27  lastOnlineTime          3193 non-null   float64\n",
      " 28  birthd                  3193 non-null   int64  \n",
      " 29  connectedToFacebook     2336 non-null   float64\n",
      " 30  locationCity            2327 non-null   object \n",
      " 31  Latitude                3187 non-null   float64\n",
      " 32  Longitude               3187 non-null   float64\n",
      " 33  description             3193 non-null   int64  \n",
      "dtypes: float64(5), int64(27), int8(1), object(1)\n",
      "memory usage: 851.3+ KB\n"
     ]
    }
   ],
   "source": [
    "data_train.info()"
   ]
  },
  {
   "cell_type": "markdown",
   "metadata": {},
   "source": [
    "### Analysis of the quantitative features"
   ]
  },
  {
   "cell_type": "code",
   "execution_count": 40,
   "metadata": {},
   "outputs": [
    {
     "data": {
      "text/html": [
       "<div>\n",
       "<style scoped>\n",
       "    .dataframe tbody tr th:only-of-type {\n",
       "        vertical-align: middle;\n",
       "    }\n",
       "\n",
       "    .dataframe tbody tr th {\n",
       "        vertical-align: top;\n",
       "    }\n",
       "\n",
       "    .dataframe thead th {\n",
       "        text-align: right;\n",
       "    }\n",
       "</style>\n",
       "<table border=\"1\" class=\"dataframe\">\n",
       "  <thead>\n",
       "    <tr style=\"text-align: right;\">\n",
       "      <th></th>\n",
       "      <th>age</th>\n",
       "      <th>counts_details</th>\n",
       "      <th>counts_pictures</th>\n",
       "      <th>counts_fans</th>\n",
       "      <th>lang_count</th>\n",
       "    </tr>\n",
       "  </thead>\n",
       "  <tbody>\n",
       "    <tr>\n",
       "      <th>count</th>\n",
       "      <td>3193.000000</td>\n",
       "      <td>3193.000000</td>\n",
       "      <td>3193.000000</td>\n",
       "      <td>3193.000000</td>\n",
       "      <td>3193.000000</td>\n",
       "    </tr>\n",
       "    <tr>\n",
       "      <th>mean</th>\n",
       "      <td>22.015346</td>\n",
       "      <td>0.569966</td>\n",
       "      <td>4.740683</td>\n",
       "      <td>2.218290</td>\n",
       "      <td>1.104917</td>\n",
       "    </tr>\n",
       "    <tr>\n",
       "      <th>std</th>\n",
       "      <td>1.961267</td>\n",
       "      <td>0.327103</td>\n",
       "      <td>4.365337</td>\n",
       "      <td>11.537626</td>\n",
       "      <td>0.566906</td>\n",
       "    </tr>\n",
       "    <tr>\n",
       "      <th>min</th>\n",
       "      <td>19.000000</td>\n",
       "      <td>0.000000</td>\n",
       "      <td>0.000000</td>\n",
       "      <td>0.000000</td>\n",
       "      <td>0.000000</td>\n",
       "    </tr>\n",
       "    <tr>\n",
       "      <th>25%</th>\n",
       "      <td>20.000000</td>\n",
       "      <td>0.310000</td>\n",
       "      <td>2.000000</td>\n",
       "      <td>0.000000</td>\n",
       "      <td>1.000000</td>\n",
       "    </tr>\n",
       "    <tr>\n",
       "      <th>50%</th>\n",
       "      <td>22.000000</td>\n",
       "      <td>0.620000</td>\n",
       "      <td>4.000000</td>\n",
       "      <td>0.000000</td>\n",
       "      <td>1.000000</td>\n",
       "    </tr>\n",
       "    <tr>\n",
       "      <th>75%</th>\n",
       "      <td>24.000000</td>\n",
       "      <td>0.850000</td>\n",
       "      <td>6.000000</td>\n",
       "      <td>0.000000</td>\n",
       "      <td>1.000000</td>\n",
       "    </tr>\n",
       "    <tr>\n",
       "      <th>max</th>\n",
       "      <td>28.000000</td>\n",
       "      <td>1.000000</td>\n",
       "      <td>30.000000</td>\n",
       "      <td>237.000000</td>\n",
       "      <td>9.000000</td>\n",
       "    </tr>\n",
       "  </tbody>\n",
       "</table>\n",
       "</div>"
      ],
      "text/plain": [
       "               age  counts_details  counts_pictures  counts_fans   lang_count\n",
       "count  3193.000000     3193.000000      3193.000000  3193.000000  3193.000000\n",
       "mean     22.015346        0.569966         4.740683     2.218290     1.104917\n",
       "std       1.961267        0.327103         4.365337    11.537626     0.566906\n",
       "min      19.000000        0.000000         0.000000     0.000000     0.000000\n",
       "25%      20.000000        0.310000         2.000000     0.000000     1.000000\n",
       "50%      22.000000        0.620000         4.000000     0.000000     1.000000\n",
       "75%      24.000000        0.850000         6.000000     0.000000     1.000000\n",
       "max      28.000000        1.000000        30.000000   237.000000     9.000000"
      ]
     },
     "execution_count": 40,
     "metadata": {},
     "output_type": "execute_result"
    }
   ],
   "source": [
    "quant_features = ['age', 'counts_details', 'counts_pictures','counts_fans', 'lang_count']\n",
    "data_train[quant_features].describe()"
   ]
  },
  {
   "cell_type": "code",
   "execution_count": 41,
   "metadata": {},
   "outputs": [
    {
     "data": {
      "image/png": "[encoded data removed]",
      "text/plain": [
       "<Figure size 1152x1440 with 6 Axes>"
      ]
     },
     "metadata": {
      "needs_background": "light"
     },
     "output_type": "display_data"
    }
   ],
   "source": [
    "data_train[quant_features].hist(figsize=(16, 20), bins = 50, xlabelsize=8, ylabelsize=8)\n",
    "plt.show()"
   ]
  },
  {
   "cell_type": "markdown",
   "metadata": {},
   "source": [
    "### Statistical analysis\n"
   ]
  },
  {
   "cell_type": "code",
   "execution_count": 42,
   "metadata": {},
   "outputs": [],
   "source": [
    "# Define the filtering parameter(s)\n",
    "filterAge = -1\n",
    "includeInterestInChats = True\n",
    "\n",
    "# Define the function to calculate the statistics\n",
    "def calculate_statistics(df):\n",
    "    nbUsers = df['age'].count()\n",
    "    wantChats = df[df['flirtInterests_chat'] == 1]['age'].count()\n",
    "    wantFriends = df[df['flirtInterests_friends'] == 1]['age'].count()\n",
    "    wantDates = df[df['flirtInterests_date'] == 1]['age'].count()\n",
    "    nbGay = np.sum(np.where((df['genderLooking'] == df['gender']) | (df['genderLooking'] == 'both'), 1, 0))\n",
    "    kissesReceived = df['counts_details'].sum()\n",
    "    visitsReceived = df['counts_details'].sum()\n",
    "    totalFollowers = df['counts_fans'].sum()\n",
    "    languagesSpoken = df['lang_count'].sum()\n",
    "    \n",
    "    # Calculate the statistics\n",
    "    percentWantChats = round(100 * wantChats / nbUsers, 1)\n",
    "    percentWantFriends = round(100 * wantFriends / nbUsers, 1)\n",
    "    percentWantDates = round(100 * wantDates / nbUsers, 1)\n",
    "    meanKissesReceived = int(np.floor(kissesReceived / nbUsers))\n",
    "    meanVisitsReceived = round(visitsReceived / nbUsers, 1)\n",
    "    meanFollowers = round(totalFollowers / nbUsers, 1)\n",
    "    meanLanguagesKnown = round(languagesSpoken / nbUsers, 2)\n",
    "    \n",
    "    # Create a dataframe with the statistics\n",
    "    statistics = {'age': df['age'].iloc[0],\n",
    "                  'nbUsers': nbUsers,\n",
    "                  'percentWantChats': percentWantChats,\n",
    "                  'percentWantFriends': percentWantFriends,\n",
    "                  'percentWantDates': percentWantDates,\n",
    "                  'usersLookingForSameSex': nbGay,\n",
    "                  'meanKissesReceived': meanKissesReceived,\n",
    "                  'meanVisitsReceived': meanVisitsReceived,\n",
    "                  'meanFollowers': meanFollowers,\n",
    "                  'meanLanguagesKnown': meanLanguagesKnown,\n",
    "                  'totalWantChants': wantChats,\n",
    "                  'totalWantFriends': wantFriends,\n",
    "                  'totalWantDates': wantDates,\n",
    "                  'totalKissesReceive': kissesReceived,\n",
    "                  'totalVisitsReceived': visitsReceived,\n",
    "                  'totalFollowers': totalFollowers,\n",
    "                  'totalLanguagesSpoken': languagesSpoken}\n",
    "    \n",
    "    statistics_df = pd.DataFrame.from_dict(statistics, orient='index').T\n",
    "    \n",
    "    return statistics_df\n",
    "\n",
    "# Filter the dataframe based on the filtering parameter(s)\n",
    "if filterAge >= 0:\n",
    "    lovoo_v3_users_api_results_df = data_train[data_train['age'] == filterAge]\n",
    "if includeInterestInChats:\n",
    "    lovoo_v3_users_api_results_df = data_train[data_train['flirtInterests_chat'].notnull()]\n",
    "\n",
    "# Group the dataframe by age and calculate the statistics for each group\n",
    "statistics_df = lovoo_v3_users_api_results_df.groupby('age').apply(calculate_statistics)\n",
    "\n",
    "# Reset the index of the resulting dataframe\n",
    "statistics_df = statistics_df.reset_index(drop=True)"
   ]
  },
  {
   "cell_type": "code",
   "execution_count": 43,
   "metadata": {},
   "outputs": [
    {
     "data": {
      "image/png": "[encoded data removed]",
      "text/plain": [
       "<Figure size 720x432 with 1 Axes>"
      ]
     },
     "metadata": {
      "needs_background": "light"
     },
     "output_type": "display_data"
    }
   ],
   "source": [
    "# Create the bar plot\n",
    "fig, ax = plt.subplots(figsize=(10,6))\n",
    "ax.bar(x=statistics_df['age'], height=statistics_df['percentWantChats'], width=0.3, label='Want Chats')\n",
    "ax.bar(x=statistics_df['age']+0.3, height=statistics_df['percentWantFriends'], width=0.3, label='Want Friends')\n",
    "ax.bar(x=statistics_df['age']+0.6, height=statistics_df['percentWantDates'], width=0.3, label='Want Dates')\n",
    "\n",
    "# Add labels and titles\n",
    "ax.set_xlabel('Age')\n",
    "ax.set_ylabel('Percentage of Users')\n",
    "ax.set_title('Interests in Chats, Friends, and Dates by Age Group')\n",
    "ax.set_xticks(statistics_df['age'])\n",
    "ax.legend()\n",
    "\n",
    "plt.show()\n"
   ]
  },
  {
   "cell_type": "markdown",
   "metadata": {},
   "source": [
    "### Geographic visualization"
   ]
  },
  {
   "cell_type": "code",
   "execution_count": 44,
   "metadata": {},
   "outputs": [
    {
     "data": {
      "text/plain": [
       "<seaborn.axisgrid.FacetGrid at 0x7fa0d1d83290>"
      ]
     },
     "execution_count": 44,
     "metadata": {},
     "output_type": "execute_result"
    },
    {
     "data": {
      "image/png": "[encoded data removed]",
      "text/plain": [
       "<Figure size 360x360 with 1 Axes>"
      ]
     },
     "metadata": {
      "needs_background": "light"
     },
     "output_type": "display_data"
    }
   ],
   "source": [
    "sns.catplot(x=\"lang_count\", y=target_train.values, kind=\"box\", data=data_train)"
   ]
  },
  {
   "attachments": {},
   "cell_type": "markdown",
   "metadata": {},
   "source": []
  },
  {
   "cell_type": "code",
   "execution_count": 45,
   "metadata": {},
   "outputs": [],
   "source": [
    "from shapely.geometry import Point\n",
    "from folium import plugins\n",
    "import folium\n",
    "\n",
    "def plot_heatmap_count(df):\n",
    "    df_map = df.groupby(['locationCity']).size().reset_index(name='count')\n",
    "\n",
    "    df_map['Latitude'] = df_map['locationCity'].apply(lambda x: df[df['locationCity'] == x]['Latitude'].values[0] if df[df['locationCity'] == x].values.any(None) else np.nan)\n",
    "    df_map['Longitude'] = df_map['locationCity'].apply(lambda x: df[df['locationCity'] == x]['Longitude'].values[0] if df[df['locationCity'] == x].values.any(None) else np.nan)\n",
    "\n",
    "    #df['Longitude'] = df['locationCity'].apply(lambda x: df_2[df_2['City'] == x]['Longitude'])\n",
    "    df_map[\"Coordinates\"] = list(zip(df_map.Longitude, df_map.Latitude))\n",
    "    df_map[\"Coordinates\"] = df_map[\"Coordinates\"].apply(Point)\n",
    "    df_map = df_map.dropna()\n",
    "\n",
    "    map = folium.Map(location=[45, 15], tiles=\"Cartodb dark_matter\", zoom_start=4)\n",
    "\n",
    "    heat_data = [[point.xy[1][0], point.xy[0][0]] for point in df_map['Coordinates']]\n",
    "\n",
    "    plugins.HeatMap(heat_data, min_opacity=0.2,  name='Heatmap').add_to(map)\n",
    "\n",
    "\n",
    "    display(map)"
   ]
  },
  {
   "cell_type": "code",
   "execution_count": 46,
   "metadata": {},
   "outputs": [
    {
     "data": {
      "text/html": [
       "<div style=\"width:100%;\"><div style=\"position:relative;width:100%;height:0;padding-bottom:60%;\"><span style=\"color:#565656\">Make this Notebook Trusted to load map: File -> Trust Notebook</span><iframe srcdoc=\"&lt;!DOCTYPE html&gt;\n",
       "&lt;html&gt;\n",
       "&lt;head&gt;\n",
       "    \n",
       "    &lt;meta http-equiv=&quot;content-type&quot; content=&quot;text/html; charset=UTF-8&quot; /&gt;\n",
       "    \n",
       "        &lt;script&gt;\n",
       "            L_NO_TOUCH = false;\n",
       "            L_DISABLE_3D = false;\n",
       "        &lt;/script&gt;\n",
       "    \n",
       "    &lt;style&gt;html, body {width: 100%;height: 100%;margin: 0;padding: 0;}&lt;/style&gt;\n",
       "    &lt;style&gt;#map {position:absolute;top:0;bottom:0;right:0;left:0;}&lt;/style&gt;\n",
       "    &lt;script src=&quot;https://cdn.jsdelivr.net/npm/leaflet@1.9.3/dist/leaflet.js&quot;&gt;&lt;/script&gt;\n",
       "    &lt;script src=&quot;https://code.jquery.com/jquery-1.12.4.min.js&quot;&gt;&lt;/script&gt;\n",
       "    &lt;script src=&quot;https://cdn.jsdelivr.net/npm/bootstrap@5.2.2/dist/js/bootstrap.bundle.min.js&quot;&gt;&lt;/script&gt;\n",
       "    &lt;script src=&quot;https://cdnjs.cloudflare.com/ajax/libs/Leaflet.awesome-markers/2.0.2/leaflet.awesome-markers.js&quot;&gt;&lt;/script&gt;\n",
       "    &lt;link rel=&quot;stylesheet&quot; href=&quot;https://cdn.jsdelivr.net/npm/leaflet@1.9.3/dist/leaflet.css&quot;/&gt;\n",
       "    &lt;link rel=&quot;stylesheet&quot; href=&quot;https://cdn.jsdelivr.net/npm/bootstrap@5.2.2/dist/css/bootstrap.min.css&quot;/&gt;\n",
       "    &lt;link rel=&quot;stylesheet&quot; href=&quot;https://netdna.bootstrapcdn.com/bootstrap/3.0.0/css/bootstrap.min.css&quot;/&gt;\n",
       "    &lt;link rel=&quot;stylesheet&quot; href=&quot;https://cdn.jsdelivr.net/npm/@fortawesome/fontawesome-free@6.2.0/css/all.min.css&quot;/&gt;\n",
       "    &lt;link rel=&quot;stylesheet&quot; href=&quot;https://cdnjs.cloudflare.com/ajax/libs/Leaflet.awesome-markers/2.0.2/leaflet.awesome-markers.css&quot;/&gt;\n",
       "    &lt;link rel=&quot;stylesheet&quot; href=&quot;https://cdn.jsdelivr.net/gh/python-visualization/folium/folium/templates/leaflet.awesome.rotate.min.css&quot;/&gt;\n",
       "    \n",
       "            &lt;meta name=&quot;viewport&quot; content=&quot;width=device-width,\n",
       "                initial-scale=1.0, maximum-scale=1.0, user-scalable=no&quot; /&gt;\n",
       "            &lt;style&gt;\n",
       "                #map_8711893a8a52e9e451061337d5a2f818 {\n",
       "                    position: relative;\n",
       "                    width: 100.0%;\n",
       "                    height: 100.0%;\n",
       "                    left: 0.0%;\n",
       "                    top: 0.0%;\n",
       "                }\n",
       "                .leaflet-container { font-size: 1rem; }\n",
       "            &lt;/style&gt;\n",
       "        \n",
       "    &lt;script src=&quot;https://cdn.jsdelivr.net/gh/python-visualization/folium@main/folium/templates/leaflet_heat.min.js&quot;&gt;&lt;/script&gt;\n",
       "&lt;/head&gt;\n",
       "&lt;body&gt;\n",
       "    \n",
       "    \n",
       "            &lt;div class=&quot;folium-map&quot; id=&quot;map_8711893a8a52e9e451061337d5a2f818&quot; &gt;&lt;/div&gt;\n",
       "        \n",
       "&lt;/body&gt;\n",
       "&lt;script&gt;\n",
       "    \n",
       "    \n",
       "            var map_8711893a8a52e9e451061337d5a2f818 = L.map(\n",
       "                &quot;map_8711893a8a52e9e451061337d5a2f818&quot;,\n",
       "                {\n",
       "                    center: [45.0, 15.0],\n",
       "                    crs: L.CRS.EPSG3857,\n",
       "                    zoom: 4,\n",
       "                    zoomControl: true,\n",
       "                    preferCanvas: false,\n",
       "                }\n",
       "            );\n",
       "\n",
       "            \n",
       "\n",
       "        \n",
       "    \n",
       "            var tile_layer_71bed037c6cf4466423f81923fc5eed4 = L.tileLayer(\n",
       "                &quot;https://cartodb-basemaps-{s}.global.ssl.fastly.net/dark_all/{z}/{x}/{y}.png&quot;,\n",
       "                {&quot;attribution&quot;: &quot;\\u0026copy; \\u003ca target=\\&quot;_blank\\&quot; href=\\&quot;http://www.openstreetmap.org/copyright\\&quot;\\u003eOpenStreetMap\\u003c/a\\u003e contributors \\u0026copy; \\u003ca target=\\&quot;_blank\\&quot; href=\\&quot;http://cartodb.com/attributions\\&quot;\\u003eCartoDB\\u003c/a\\u003e, CartoDB \\u003ca target=\\&quot;_blank\\&quot; href =\\&quot;http://cartodb.com/attributions\\&quot;\\u003eattributions\\u003c/a\\u003e&quot;, &quot;detectRetina&quot;: false, &quot;maxNativeZoom&quot;: 18, &quot;maxZoom&quot;: 18, &quot;minZoom&quot;: 0, &quot;noWrap&quot;: false, &quot;opacity&quot;: 1, &quot;subdomains&quot;: &quot;abc&quot;, &quot;tms&quot;: false}\n",
       "            ).addTo(map_8711893a8a52e9e451061337d5a2f818);\n",
       "        \n",
       "    \n",
       "            var heat_map_8c5aeb7a9339c79a50f15a4466683514 = L.heatLayer(\n",
       "                [[50.776351, 6.083862], [48.8362705, 10.0931765], [47.3927146, 8.0444448], [47.0443346, 7.2753004], [47.3206417, 7.8993599], [48.8818689, 9.9688589], [47.4682447, 7.5980395], [47.2782467, 8.4521518], [48.62785065, 9.252390680962806], [46.3179006, 6.9688929], [46.0219319, 3.20189], [43.5298424, 5.4474738], [45.6886292, 5.9146362], [47.5943254, 8.1336893], [45.78627875, 5.935358924332197], [45.2174088, 6.340903], [46.851398, 7.318044], [48.233048, 8.9991483], [47.5510799, 7.5365611], [46.9411661, 8.2736829], [46.8820732, 8.6413922], [49.7988053, 11.0093027], [47.823657, 10.8734632], [47.6238204, 7.2401542], [47.0382299, 6.0710971], [46.075, 6.33], [50.3543055, 6.1705559], [45.8992348, 6.1288847], [45.9191358, 6.1420652], [46.1934005, 6.2341093], [45.7370885, 7.3196649], [43.8803889, 7.6602096], [46.7739133, 5.8881355], [20.05331095, 77.99506591814236], [14.53317, 43.5916], [49.9740542, 9.1493636], [44.82601265, 8.202686328987273], [46.5110996, 6.8489696], [47.2631893, 8.037914465615557], [47.2469193, 8.6440321], [47.4819786, 6.8413684], [47.132304, 7.83405], [46.9761042, 6.8741475002697285], [47.4885365, 3.9070658], [46.879575, 7.040941], [43.9492493, 4.8059012], [47.13661595, 6.437393250396385], [50.35440955, 7.0524441530485245], [47.7308736, 7.5569211], [50.5098164, 7.2983807], [50.299603, 8.2673122], [48.0222311, 8.5299837], [50.3352062, 7.7128538], [49.8490413, 7.8626661], [47.9118288, 7.7033313], [50.5545674, 6.7636511], [50.5444551, 7.1186671], [48.0158071, 9.5010309], [50.141688, 8.071992], [47.5525538, 7.9495387], [47.9209556, 9.7542772], [48.7502439, 8.550301], [48.1928371, 8.1390286], [48.2737512, 8.8557862], [47.1521716, 8.3185717], [47.3140365, 7.6947764], [47.4316337, 8.6409971], [48.2332047, 4.7058337], [47.0376374, 7.2641407], [46.5490191, 5.7099716], [47.5581077, 7.5878261], [47.5581077, 7.5878261], [44.9015003, -0.5163222], [47.3526707, 6.3614622], [46.6932513, 7.783279], [50.2144406, 3.9615305], [30.0860459, -94.1018461], [47.0239064, 4.8380426], [49.3877286, 6.704062], [47.2664506, 8.2027093], [47.6379599, 6.8628942], [47.2134073, 7.4983313], [46.1073321, 5.830749559824268], [47.6144219, -122.192337], [46.5200729, 6.6800519], [46.88978, 7.498388], [47.488307, 7.28219], [48.5136675, 6.2202997], [49.6810158, 8.6227577], [48.8986773, 7.1572261], [45.7566557, 9.754219200862249], [48.2056672, 7.3621755], [50.9929303, 7.1277379], [47.3528355, 8.3701013], [47.7290884, 9.3491605], [46.9482713, 7.4514512], [46.9482713, 7.4514512], [46.9482713, 7.4514512], [46.3607868, 6.6753169], [47.2076373, 8.1924386], [47.8497236, 7.2176669], [47.2380222, 6.0243622], [46.5848592, 6.8673887], [46.2513776, 7.0123881], [48.0984413, 9.7899938], [47.1810605, 7.5626086], [48.410118, 10.1952705], [47.1402077, 7.2439029], [47.506771, 7.520962], [47.1402077, 7.2439029], [48.2083537, 16.3725042], [48.9502631, 9.1383314], [44.7568464, 19.2156628], [53.1057254, -7.757195629186065], [47.2903395, 8.1965202], [46.5373773, 6.3337235], [51.7902676, 10.9551991], [50.4367928, 6.6507388], [48.4159247, 9.9187625], [46.4650397, 6.8951981], [47.153037, 9.8219314], [47.8401424, 8.534081], [48.6000616, 5.8343375], [46.5372418, 6.1364267], [47.9212582, 7.7886752], [44.4938203, 11.3426327], [46.81132, 9.3984396], [47.8195619, 8.3420691], [50.735851, 7.10066], [47.8195619, 8.3420691], [50.735851, 7.10066], [50.082567, 2.2486687], [45.6989107, 8.4623673], [50.7627913, 6.9890508], [46.6169088, 6.6607269], [47.0310766, 6.869930582353297], [46.9487464, 6.8358712], [46.2051192, 5.2250324], [48.3777152, 4.2576617], [47.5025779, 9.7472924], [48.0291415, 7.5806123], [48.3657983, 7.2930383], [46.9767749, 7.4374969], [46.9767749, 7.4374969], [47.3091754, 5.1830598], [44.8984037, 6.6436313], [46.28873245, 7.975308373361105], [47.2586821, 7.9466147], [49.124118, 8.5980244], [49.1132218, 7.8033681], [48.6293223, 11.3097034], [45.1554921, 8.0601029], [47.4824633, 8.2085662], [50.8291313, 6.9037057], [47.1627634, 9.4764086], [47.8469223, 7.6388717], [48.7253, 7.0853], [46.89399, 6.2233766], [47.0571316, 7.6237466], [44.518132, 7.474328], [47.8856155, 6.8554759], [46.5512503, 6.553745], [46.5512503, 6.553745], [47.5580779, 9.0797264], [47.1139601, 8.0935047], [47.3820245, 7.4730851], [47.1317799, 7.5398908], [46.6887343, 7.8949281], [48.6945066, 8.134423], [47.5172321, 8.5407118], [47.3915791, 7.5405238], [49.9031693, 8.5143517], [48.7112108, 8.7452043], [44.959244, 7.601722], [43.5515198, 7.0134418], [44.906943, 7.673225], [44.8455856, 7.7192711], [46.1846691, 6.1396839], [45.381955, 7.712117], [45.7121687, 8.6429769], [45.613168, 8.486129], [43.8356808, 5.0383522], [44.709839, 7.686329], [46.025762, 6.0482784], [47.0768872, 6.893812942278821], [47.8208892, 7.5410482], [46.7888997, 4.8529605], [45.9246705, 6.8727506], [45.5662672, 5.9203636], [47.347147, 6.8350183], [45.9246705, 6.8727506], [46.4832727, 5.381004], [46.7456049, 5.9083581], [46.1965678, 5.8127891], [48.5989773, 6.5272074], [46.5859079, 6.8365374], [50.4120332, 4.4436244], [46.5961749, 7.17930555186935], [46.5285212, 6.5726698], [45.8808109, 5.728951924496879], [46.7820326, 6.6718258], [46.5854324, 6.6061393], [46.3396389, 6.6378692], [44.708414, 4.6615361], [44.6137168, 6.5210728], [46.5265288, 6.8996536], [46.4039449, 4.5532671], [46.6591772, 5.7302769], [46.0867798, 6.5826638], [46.1963639, 6.1854072], [46.1942388, 6.1934779], [46.06398, 5.8930508], [45.7774551, 3.0819427], [46.0603171, 6.5804218], [46.2276222, 6.1034841], [45.0775473, 7.5724262], [46.2702127, 6.1225354], [46.2676732, 6.94607], [46.1409508, 6.1449533], [48.0777517, 7.3579641], [44.1814485, 6.6270041], [50.938361, 6.959974], [46.2163962, 6.1817613], [46.3182308, 6.1757684], [45.939475900000005, 9.149410145408948], [46.9130448, 7.028443519644052], [46.18801725, 7.290342278811543], [45.54451325, 9.167620729961165], [46.7931469, 7.1322529], [46.8116318, 7.1052486], [47.0322789, 7.018409497174975], [46.4705779, 6.8436858], [46.9432319, 6.8458944], [46.536155, 4.6386913], [45.5699123, 8.1799881], [46.6119908, 6.5099403], [46.857063, 7.1018054], [46.8646535, 7.125015421552648], [45.9079102, 6.106538], [46.1876567, 6.2919875], [46.5538658, 6.5772501], [47.2135668, 7.9901132], [46.933072, 8.3911486], [48.2106266, 6.2624449], [48.557112, 6.3871266], [48.5150876, 2.6347018], [49.8851869, 8.6736295], [48.7128008, 9.3864523], [48.1121476, 8.6048933], [47.3615882, 7.354445], [45.8811895, 6.6395729], [48.0669167, 7.8862704], [48.5018486, 9.0498594], [47.97628, 7.4891929], [49.2824981, 8.7351709], [47.4810371, 8.4543245], [47.1080046, 7.3635007], [47.4068827, 8.4020894], [47.4222808, 8.6155979], [47.3215806, 5.0414701], [47.3636287, 8.2281106], [48.8263983, 9.0658446], [46.3570916, 6.143049], [47.0921047, 5.4925463], [45.2013065, 5.8388954], [47.4806097, 7.6176609], [47.413631, 9.7423875], [47.119702, 7.3413724], [46.3059806, 6.3024961], [46.1567878, 4.7666636], [50.011974, 8.7123912], [51.0493286, 13.7381437], [45.1344531, 7.5764559], [47.3968244, 8.6183023], [49.4786477, 6.0847792], [48.9538155, 2.414733], [47.3537179, 7.9424681], [46.0191641, 8.7871203], [47.445933, 8.4057151], [46.6606497, 7.8094165], [47.533668, 6.6757516], [47.3968244, 8.6183023], [49.4786477, 6.0847792], [50.8031684, 6.4820806], [47.0902206, 7.7895896], [47.3215135, 8.1571142], [47.0812067, 8.338521], [46.6381163, 6.6346951], [46.5261672, 6.5620735], [49.088332, 8.4003114], [47.6962642, 8.3954399], [47.1859718, 8.0056254], [47.4948072, 8.3418609], [47.6321888, 7.595491], [47.1286095, 8.7500299], [47.9624362, 8.2710482], [50.7710301, 7.450353], [48.9615975, 10.131975], [50.9371308, 6.5698302], [50.574627, 8.1153709], [47.5056384, 8.5941089], [52.75286615, 6.952513466208563], [48.1342091, 7.862308289129789], [48.1412922, 7.6999031], [46.547327, 6.6726245], [46.7542193, 7.1458774], [49.4073926, 6.9644654], [49.1373277, 8.9084374], [48.3274603, 9.8913803], [48.3565749, 7.3194249], [50.1624394, 8.9846455], [50.5825251, 7.2378214], [46.8215088, 8.6499636], [50.1426423, 8.5716274], [48.6589138, 9.6707545], [50.8175029, 6.2630894], [46.7276519, 6.5821566], [48.7427584, 9.3071685], [46.8496406, 6.8477378], [45.5163956, 4.9627643], [46.6001382, 6.6134167], [46.4860906, 6.4193113], [46.1786453, 6.2261757], [48.2545659, 7.8080276], [50.6612623, 6.7871219], [47.2946038, 8.2413934], [46.4780735, 8.8005039], [46.9057923, 7.0740011], [47.3873705, 8.7520123], [47.8647485, 7.2730686], [48.8181556, 9.278085], [47.6033178, 8.2212101], [46.2555744, 6.1076131], [47.915436, 7.5360223], [47.1867433, 8.7486302], [48.6616311, 9.2236805], [47.2353768, 7.5985965], [46.8840067, 8.01564], [47.0591568, 6.888839343655036], [46.8496545, 4.7704406], [45.6434689, 8.4808276], [50.8043254, 7.6827244], [50.1106444, 8.6820917], [49.5445804, 8.3540061], [50.1106444, 8.6820917], [50.1106444, 8.6820917], [46.8570466, 6.1617717], [47.5561915, 8.8963347], [50.9096219, 6.8081935], [48.17737, 7.9050269], [48.9345539, 9.1922557], [47.9960901, 7.8494005], [47.9960901, 7.8494005], [49.0097053, 9.0591625], [46.01147755, 8.9749503], [46.6789116, 7.1027113], [47.9960901, 7.8494005], [47.5075081, 8.0203065], [50.3352682, 8.7539306], [47.917078, 8.2571947], [47.6500279, 9.4800858], [47.0269526, 7.3312533], [48.3089525, 7.6722451], [46.81233245, 5.480846805388461], [43.4487615, 3.7530636], [48.4711, 6.3541], [47.1532544, 7.2638156], [48.0512198, 8.2073776], [46.4402783, 5.596741816814628], [47.5709212, 10.6977089], [46.1838437, 6.211169], [46.3153507, 7.7430022], [44.5612032, 6.0820639], [45.5560274, 8.9982517], [43.455613, 5.4710661], [47.4819508, 8.2408818], [50.963605, 6.1199802], [45.7330585, 4.9965605], [46.2017559, 6.1466014], [46.2017559, 6.1466014], [44.40726, 8.9338624], [46.2017559, 6.1466014], [47.4224047, 8.4117744], [48.6221779, 10.0216975], [47.1385808, 7.970419543750907], [47.2002101, 8.1095256], [46.3324378, 6.0588831], [45.5983455, 8.4209035], [46.7615024, 7.210014], [45.659271, 6.3490978], [46.2017559, 6.1466014], [49.9845346, 8.3254964], [46.8145053, 7.1295693], [45.5844238, 4.7696529], [49.0488889, 3.4630556], [47.4326312, 8.5647892], [47.559752, 8.5008282], [45.3489735, 17.6833222], [47.051219, 8.5507758], [50.5754022, 7.088919194018053], [46.8086306, 6.6417532], [46.8117893, 6.8443341], [43.6589011, 6.9239103], [47.34737, 8.679264568080459], [47.1911495, 7.3967199], [45.1875602, 5.7357819], [47.5528548, 7.6737981], [48.63551, 7.667722], [46.6242733, 8.0367462], [46.8331166, 7.0668617], [46.9079431, 7.6385085], [49.9194456, 8.4852426], [47.5568263, 8.605258932878952], [50.386783, 8.4573342], [45.7213843, 5.9317779], [46.8928043, 7.1757732], [48.7031377, 9.6541116], [46.9345928, 7.5110516], [46.7276046, 7.8646663], [47.0569331, 7.1870499], [48.1466103, 16.9422459], [50.1354291, 8.918817903264163], [48.1482307, 14.4245338], [47.003261, 7.645102512286231], [49.8717319, 7.3755998], [48.4774049, 0.1989853], [47.8414231, 6.2862581], [49.362976, 8.2565755], [48.3525529, 8.9642047], [47.2984412, 8.4489755], [49.4093582, 8.694724], [48.6767637, 10.152923], [49.142291, 9.218655], [51.5865646, 11.1123411], [48.8058986, 8.8619207], [52.3212183, 9.7454815], [49.5919545, 8.6460261], [50.7754417, 7.2847945], [48.2198805, 7.7769882], [48.6226932, 10.1761696], [46.9840938, 8.3104542], [47.3309507, 8.3413696], [47.6665531, 8.0006455], [47.1881314, 7.7057052], [48.0546959, 7.9052909], [46.8378925, 7.4015802], [48.6942941, 9.4687074], [50.0145517, 8.3514488], [49.8002512, 7.5046009], [49.3188892, 8.5475467], [47.3639973, 9.689271], [47.5083945, 9.2246069], [48.6392119, 9.0115732], [49.3181673, 7.3340336], [47.260692, 8.5976831], [47.5941514, 7.5794613], [47.3854685, 8.1242795], [47.1147419, 7.8455436], [47.3069637, 7.815973], [48.0336348, 7.2806678], [50.34478, 2.2536], [50.438904, 7.6703879], [51.0552368, 6.2247322], [47.1751834, 8.4259648], [50.8807379, 6.876568], [50.2212764, 8.269554], [46.9889935, 8.7259577], [47.43142195, 8.715716576799185], [47.6658914, 9.3676364], [47.3124377, 6.9563614], [47.0007581, 8.6150227], [46.6855231, 7.8585139], [47.1220031, 8.3508443], [47.6925666, 10.039203], [48.9205599, 8.6690154], [46.9790726, 7.4815213], [48.2581, 5.698], [46.6113953, 7.2761312], [47.65, 8.56667], [48.2035744, 6.4889122], [46.9852159, 2.64411], [50.9220931, 6.3611015], [50.2307994, 7.1404855], [49.4432174, 7.7689951], [47.5386303, 8.0446209], [47.0205806, 7.2363159], [47.714697, 7.6610865], [49.1017841, 8.0311205], [47.617974, 7.4384263], [49.0068705, 8.4034195], [47.0130792, 8.33487], [50.8126063, 7.8233088], [47.8803788, 10.622246], [48.1571873, 7.241094008940136], [50.1375695, 8.4519114], [50.065151, 8.5296632], [47.7267063, 10.3168835], [48.1918267, 7.7689368], [50.87489555, 6.05938669638836], [50.3097609, 6.7293316], [46.9761315, 7.1972834], [46.5885474, 7.7246488], [47.3225316, 8.5459483], [48.8622453, 7.5992041], [47.7979814, 6.9537288], [48.6480545, 9.4510227], [47.9651461, 7.9573306], [47.7489007, 7.793722001473972], [47.6441125, 8.426268981215433], [47.4525133, 8.5861477], [50.3533278, 7.5943951], [46.879415, 7.6209846], [49.6984949, 6.5736454], [47.1318304, 7.601523], [47.6464362, 9.1725621], [47.175109, 7.59906], [47.034146, 8.2807994], [48.8272323, 8.2545743], [50.938361, 6.959974], [48.9667977, 8.6248341], [50.6739719, 7.1930989], [46.9222385, 7.4130582], [47.3891667, 8.3293117], [49.2803765, 9.6901512], [47.3176276, 8.5830859], [47.59808615, 8.346372029017168], [47.0835618, 8.4335777], [47.4194538, 8.0432568], [45.6230017, 5.2298398], [49.7422222, 5.0155556], [45.5850589, 5.4651343], [47.1031321, 6.8325778], [45.3937745, 5.2604941], [48.9500674, 3.1294221], [44.957744, 7.667324], [47.0637688, 7.0927997], [43.2648939, 5.373044], [46.0672189, 6.3121658], [46.6590583, 6.5124448], [46.4537524, 6.8569063], [46.6085534, 7.0659142], [48.6917992, 6.7077121], [45.9034952, 5.3480192], [48.338896, 7.8710825], [48.4896773, 9.6861474], [46.1839156, 6.1224047], [49.1982825, 8.1123441], [46.9581663, 7.6782496], [53.1037393, 11.248632], [49.8309059, 7.5737063], [47.2876627, 8.5372813], [47.2318707, 7.9620803], [46.9392339, 7.7882673], [49.3751438, 7.4997826], [43.5653993, 3.9017114], [48.8736283, 10.2487381], [47.6307606, 8.3063909], [47.5671976, 8.0599414], [48.5710836, 10.4305438], [46.9033021, 7.239642], [46.5218269, 6.6327025], [46.5218269, 6.6327025], [47.4736459, 7.7591139], [45.9418675, 6.4271457], [46.2363321, 6.126532], [45.7313649, 3.9774549], [46.5530996, 6.6354534], [45.3732685, 4.7961586], [47.7686752, 10.8342813], [48.4487175, 10.2213539], [46.6540687, 7.7738604], [47.521079, 8.3301378], [45.8179161, 4.6633554], [47.3873136, 8.1821873], [48.8012983, 9.0150026], [46.22029, 6.10943], [47.0192987, 6.837168909988578], [47.5270021, 6.4523529], [46.4855507, 6.0603498], [50.5201683, 8.8165535], [47.3915504, 7.71798], [47.4839723, 7.7347783], [50.3876305, 8.0636197], [47.550753, 9.6926624], [49.701478, 17.075692], [50.6450944, 5.5736112], [51.5073359, -0.12765], [46.4943826, 6.2581282], [47.2841003, 5.0574798], [46.6727037, 5.5589973], [48.8, 9.68333], [46.1679841, 8.7633619], [45.7739423, 5.2053916], [47.0505452, 8.3054682], [48.8953937, 9.1895147], [49.4704113, 8.4381568], [46.402458, 6.6640618], [48.5916164, 6.4919563], [46.5032766, 6.6867879], [49.8158683, 6.1296751], [47.0505452, 8.3054682], [45.7578137, 4.8320114], [45.72442685, 5.086515135250837], [47.0721368, 7.305262], [47.8839004, 8.3446627], [47.6120896, 7.6607218], [48.2871478, 7.8124221], [50.143872, 8.8371444], [50.0012314, 8.2762513], [50.0051896, 8.3038698], [49.9611546, 8.3141407], [45.7643442, 10.8100598], [47.0383996, 8.1830555], [49.1864983, 7.1519119], [43.5439153, 6.9359135], [49.4892913, 8.4673098], [47.3919868, 9.5686092], [48.9402085, 9.256396], [43.8629, 4.45426], [48.1954752, 16.347023425336456], [43.4162729, 5.2146275], [46.0903808, 6.4992902], [38.0409144, -122.6199638], [47.7206084, 9.3917257], [49.8452797, 9.6067197], [47.2705441, 4.9884218], [43.2961743, 5.3699525], [45.7267229, 6.4038242], [49.8597222, 4.1375], [46.2427711, 6.9879674], [47.6999205, 9.560628], [47.0470746, 8.3733992], [49.4918108, 7.8565468], [47.270428, 8.6412249], [46.7285518, 8.1870934], [48.401496300000005, 7.793257803644975], [47.8859052, 6.1263847], [50.9410689, 11.395064], [47.9867696, 10.181319], [47.240878, 8.187274], [47.178291, 8.5899339], [45.6753463, 6.3360129], [47.2607035, 8.3732781], [49.7718609, 6.7327281], [47.9648327, 7.8254423], [49.4427023, 6.6374902], [46.3512824, 6.2923899], [49.1196964, 6.1763552], [45.90363, 5.1925264], [45.2097372, 5.778361], [46.2283226, 6.0712016], [45.919176750000005, 6.095924491965651], [45.6186872, 8.6055179], [49.68841, 9.05647], [45.4641943, 9.1896346], [49.7017584, 9.2559718], [45.8948367, 4.9311797], [44.0628262, 6.0901496], [46.431063, 5.7255731], [49.59187, 5.27575], [48.757316, 7.6418687], [45.0004614, 7.6847543], [46.470957, 6.3365929], [50.4362219, 7.8302494], [46.7897393, 6.6220808], [46.7914576, 6.6117904], [46.3181446, 7.4892897], [47.5102368, 6.7977564], [46.252844, 6.9478263], [46.3400296, 2.6073963], [46.6769747, 5.5302024], [45.5009946, 6.0587974], [43.6112422, 3.8767337], [46.4310831, 6.9129921], [46.6001762, 6.375822], [47.0163655, 7.4839011], [44.763839, 7.537125], [46.5270731, 6.01616871446755], [46.5093268, 6.498317], [46.1799561, 6.7091057], [46.6680664, 6.8003478], [46.7115978, 6.1932371], [45.4849883, 6.5340061], [50.6662419, 7.7349927], [47.7467233, 7.3389937], [46.2786355, 6.9266288], [47.5565252, 8.0251078], [46.9290477, 7.4870909], [46.9290477, 7.4870909], [46.9288643, 7.1163909], [47.525113, 7.6477401], [49.4422445, 8.3542306], [46.3036683, 4.8322266], [48.886334, 9.1270745], [49.8583309, 9.0842372], [48.0993425, 8.426761], [49.5982679, 8.7354401], [46.8140615, 7.5096282], [47.8187346, 8.8132338], [50.1080582, 8.8467138], [47.8099613, 7.6257276], [47.6067595, 9.0160242], [47.0213315, 7.4519196], [47.5187909, 7.6174515], [46.8739775, 7.5631943], [51.9625101, 7.6251879], [48.6937223, 6.1834097], [46.3242659, 7.9884511], [50.4658027, 7.6259789], [49.293192, 8.9617359], [49.191133, 9.2248391], [48.5905969, 9.2330064], [47.5112292, 8.4716], [46.1867083, 7.3051008], [48.3954965, 10.00589], [46.9895828, 6.9292641], [47.8155916, 7.5627871], [50.283075, 6.4598166], [47.4493396, 8.3276312], [47.1002397, 8.2029897], [49.2047713, 9.5803049], [48.3553014, 5.6948571], [50.8545062, 7.3294965], [48.4670593, 7.8183387], [49.3539802, 8.1350021], [49.3539802, 8.1350021], [46.3955991, 6.6122858], [48.8245602, 7.4048703], [50.4302393, 7.466302], [43.7009358, 7.2683912], [44.9955182, 7.6466179], [49.9432775, 7.3662085], [49.9094108, 8.2033406], [49.6060487, 7.4676197], [50.7288268, 12.7885594], [50.8137102, 7.0351942], [47.4019522, 8.1757198], [48.7734385, 7.7384775], [50.8833, 6.46667], [49.6534616, 6.4434838], [45.58425005, 8.545996970894572], [46.3817112, 6.8996176], [46.3820585, 6.2402791], [49.8152, 8.7548], [47.3117986, 7.7652017], [46.8399962, 7.6192848], [47.409141, 8.4626927], [47.3567549, 8.0470858], [47.4768036, 8.5203554], [48.5307122, 8.0783998], [47.2989191, 8.1216116], [47.9330055, 7.9498704], [48.0884013, 10.4273041], [50.2005518, 8.580452], [46.9152277, 7.3601774], [48.0711222, 9.9512104], [50.349275, 7.3893742], [47.2874895, 7.7110465], [50.1055002, 8.7610698], [49.1959934, 8.1928331], [48.4716556, 7.944378], [47.3126595, 7.92099], [46.2972426, 6.9950257], [47.3496571, 7.903787], [47.4910127, 7.3914151], [45.879774, 8.408022], [46.1836866, 6.1001084], [48.9844859, 9.4609301], [43.9166157, 5.919898], [46.724144, 6.5317943], [48.1272548, 7.1622187], [47.09472425, 6.151746304484529], [46.0300676, 7.1453627], [47.1606885, 7.212695], [46.9582779, 7.4911242], [48.7178603, 9.2630693], [47.4023481, 8.2162901], [48.7338225, 9.7494317], [46.9988102, 6.2937303], [45.7153254, 4.8039331], [46.5550197, 6.8304613], [46.6838481, 11.0735201], [44.8013678, 10.3280833], [46.5412837, 4.5343419], [46.8208047, 6.939126], [45.8260909, -77.113541], [46.6113262, 6.5252453], [46.597822, 6.540398], [46.1066771, 6.2676644], [46.9921, 5.36708], [50.0064269, 7.3051184], [47.9361324, 7.7541745], [48.8908846, 8.7029532], [48.4656748, 9.2254982], [45.105847, 7.543418], [47.1750219, 7.3361682], [49.1996961, 7.6087847], [46.1683113, 6.117887], [48.9596036, 9.2045813], [48.4707922, 7.7267224], [48.711173, 9.4184961], [48.3173614, 4.1014237], [45.7500102, 5.1740496], [46.9040348, 6.3546345], [46.1635975, 5.5710285], [48.108134, 6.5679373], [46.3947976, 6.2487871], [47.5192013, 7.6944741], [46.534566, 6.6055827], [48.7798117, 4.5154884], [44.6752173, 6.6759398], [46.699867, 6.8820157], [46.3870276, 6.5436956], [46.5008111, 6.7823914], [46.493755, 6.765478], [50.9979888, 6.8025409], [46.5098019, 6.6617476], [45.757869, 8.265721], [46.5109139, 8.711538], [47.6115934, 8.5402669], [45.7263379, 9.7146629], [47.2266532, 8.8164042], [50.0096998, 8.4498124], [47.7811014, 9.612468], [50.5131539, 7.0369406], [48.7304376, 9.6438315], [44.608664, 10.594796841892734], [46.5710892, 7.758726726742468], [49.778049, 5.891050888560612], [49.2577886, 4.031926], [47.4935369, 7.5910891], [47.56779445, 8.321396249623938], [50.5792112, 7.2286788], [46.5276138, 6.8796623], [47.4090319, 8.3279875], [49.8047323, 9.6946099], [46.5349093, 6.5928442], [50.606603, 8.0662451], [48.4919508, 9.2114144], [48.6610699, 7.9383334], [50.4977131, 7.330199], [47.5543859, 7.7922905], [48.2338362, 7.7144924], [47.5553502, 9.727996], [48.2620477, 15.290397], [48.1534412, 9.4748796], [49.8425212, 8.4829447], [47.5816927, 7.6479737], [47.241563, 8.4971398], [50.0176771, 8.8853392], [48.8278605, 8.0363491], [47.241147, 7.8230774], [46.4601563, 6.3380469], [46.5621173, 6.6055577], [45.0458886, 5.0528681], [47.5654452, 9.3776036], [48.3575152, 6.5866064], [47.1153443, 8.3911091], [47.6680503, 6.9162004], [49.1952934, 11.056652343301325], [49.3771899, 10.1788809], [47.3029125, 7.8826232], [45.3735991, 4.8124049], [48.3857893, 6.6041172], [48.466365, 6.2920365], [46.898862, 7.5445171], [50.57651, 2.01477], [47.4027283, 8.1274477], [50.8442268, 7.4833708], [47.8037042, 16.689014287384975], [49.9816097, 7.9310198], [47.5789455, 8.5721611], [46.8214813, 7.43971], [47.0252174, 7.6726703], [47.4507163, 8.5299122], [49.991701, 8.4138251], [49.234362, 6.996379], [49.6082527, 6.548746], [47.3187392, 7.9841811], [43.7372922, 7.2873233], [50.4573687, 1.6651851], [47.15684, 5.01564], [46.2357361, 6.3213839], [46.3874699, 5.8643866], [48.2873153, 6.9477708], [45.6950021, 4.7928827], [46.2440083, 6.0253162], [45.5972034, 5.660220338293298], [46.38902065, 6.775638784558138], [45.3903684, 5.32457], [47.151775, 6.9971967], [45.2481677, 5.8261521], [45.501892, 5.1389879], [46.1386318, 6.4582302], [45.8333544, 6.1642972], [46.1444789, 6.0812467], [46.3046804, 4.8410969], [46.5088701, 6.3865672], [46.4722777, 6.8759701], [49.0984117, 1.454725], [48.3275249, 7.3363439], [45.4035, 4.0818], [46.8127816, 6.3019513], [46.4809059, 6.4586004], [44.7177, 4.54685], [47.35727, 5.41413], [49.3505211, 2.1221698], [45.4401467, 4.3873058], [49.4809517, 3.7781066], [48.0079341, 7.3859443], [45.7362255, 4.7934767], [48.6904085, 9.7395144], [45.9361246, 6.6302551], [45.1044124, 7.7619962], [50.7752776, 7.1895507], [48.36125495, 15.60789335783718], [47.4250593, 9.3765878], [49.2788378, 7.1156707], [46.315442, 6.1151126], [47.0628612, 4.8185532], [46.2535351, 7.3477598], [46.7985624, 8.2319736], [46.8636973, 8.6509309], [47.4515074, 8.1676758], [46.6280688, 10.7734765], [47.4971908, 8.3971872], [47.3965147, 8.4444861], [47.5184104, 8.364545], [47.6500525, 7.8216997], [49.4751705, 8.6611149], [47.5145465, 7.9657804], [49.929002, 8.0955343], [50.1488011, 8.5361049], [46.66513645, 7.280643975442837], [49.8224303, 6.7515418], [48.653876, 10.6486295], [47.3815017, 8.6523009], [47.0571976, 8.7222073], [48.7999036, 9.7977584], [49.1123963, 9.7369047], [47.1591758, 9.0466793], [48.2101661, 8.7577596], [48.10576825, 8.19519437965777], [47.0394266, 7.3778982], [46.331359, 6.3752502], [46.0572538, 6.5498475], [53.6195914, 10.8672662], [50.3085088, 7.8726575], [47.2055081, 7.4549158], [46.5740332, 6.9291121], [46.6004691, 6.4868169], [47.3460005, 8.1593554], [47.5323159, 7.1838002], [48.6911344, 6.4642569], [45.8880398, 6.0992785], [50.7928332, 7.2070774], [46.2922522, 7.5323195], [46.7164293, 7.7160699], [45.9471123, 6.0359723], [50.6072499, 6.3005267], [48.7084162, 9.0035455], [47.7617515, 8.8348709], [47.1910321, 8.3946059], [49.2553, 8.87722], [43.73903, 0.00822], [47.4634767, 7.8125639], [43.0935105, 5.8393953], [46.1694976, 8.7774866], [47.31874, 7.6698284], [45.6836207, 8.7070874], [48.5048366, 5.0353895], [47.1967887, 7.1705782], [49.1831546, 4.5432811], [49.3165553, 8.433615], [46.6919473, 7.6774655], [47.4182444, 8.3640342], [49.2788378, 7.1156707], [49.9130616, 8.128117], [46.9570611, 8.3661026], [46.979741, 8.3373667], [47.3465368, 7.925075], [50.1341464, 7.4416207], [46.7774738, 7.6354195], [50.5739599, 7.8104924], [50.4962225, 7.0158777], [47.1975084, 8.4860144], [48.692598, 10.0643967], [47.4989995, 8.4555136], [47.3971522, 8.5961074], [50.6039577, 7.9027084], [50.7702908, 6.2295504], [48.584614, 7.7507127], [48.7784485, 9.1800132], [47.1939523, 7.6159259], [47.373166, 8.079534], [47.1740371, 8.1089654], [50.68396955, 6.931177542038007], [45.8641144, 6.1404951], [46.9673961, 11.0070193], [45.8310642, 6.246131856052564], [48.9244825, 9.1237094], [49.52656, 4.83228], [45.7598386, 4.7657747], [46.5259065, 6.8682998], [50.1393843, 8.1505676], [46.1841146, 8.8453084], [48.1270117, 7.8101648], [47.6716558, 9.5891158], [47.2944325, 8.5635762], [48.2494845, 6.412361233645147], [49.3579272, 6.1675872], [46.2337403, 5.9770947], [46.3731303, 6.4779448], [46.7582827, 7.628086], [47.2023549, 7.7582873], [45.6815791, 4.6395008], [46.0828653, 6.5398722], [45.8819884, 6.3241844], [46.1884304, 6.1983858], [47.1733314, 7.7287365], [47.9173421, 8.1735161], [47.7387447, 8.0013624], [46.859652, 7.491931], [48.6864409, 6.2106707], [45.1961869, 7.9194861], [45.0677551, 7.6824892], [45.6483, 6.44049], [47.223677, 7.1030216], [46.27358665, 5.353456291163312], [43.4469081, 5.6851425], [49.7596208, 6.6441878], [49.762538, 6.5589219], [48.9399791, 8.0235967], [50.8153071, 7.1593271], [45.9410123, 4.7733198], [38.9597594, 34.9249653], [47.4049121, 8.2775537], [48.5236164, 9.0535531], [47.1188853, 7.2019957], [45.7490363, 6.4205158], [48.3974003, 9.9934336], [48.0335555, 7.7649061], [50.5996127, 7.2157397], [48.1614939, 10.8069903], [46.6871654, 7.8496369], [47.4992019, 8.2574722], [47.1374124, 8.584483], [47.01952495, 7.503365640336424], [47.3512065, 8.7179221], [47.1293896, 7.5577607], [46.3261322, 6.6698082], [47.1506866, 6.3414396], [43.5761001, 7.05859], [48.6599676, 6.1724618], [45.8137306, 8.2592113], [45.0885562, 5.6825158], [46.6208732, 6.8507171], [45.1198654, 5.8129345], [47.64980205, 5.274672309775737], [45.1348114, 7.6268658], [43.7917623, 7.6033131], [45.55538265, 8.346283678327271], [45.6065784, 9.6273969], [46.2131843, 6.0815756], [46.2767572, 6.168958], [47.6197395, 6.1544694], [46.4602978, 6.8418655], [46.2113825, 7.3983622], [49.9336976, 6.2066715], [49.5401174, 8.5788029], [46.0800702, 5.5308516], [45.3170942, 8.858603], [45.4202981, 0.7542978], [46.6569364, 6.6387429], [46.2977636, 7.055331], [46.2025309, 6.2495954], [43.7042317, 7.309969], [45.0835468, -0.6280356], [47.0611608, 6.6690523], [48.6731344, 6.1536378], [45.7733573, 4.8868454], [45.9289818, 5.225316086217485], [48.0632359, 8.4945022], [47.3471991, 8.244908], [46.70734955, 6.996098875719865], [46.11758005, 7.866476544533072], [48.2020717, 5.9418851], [46.11758005, 7.866476544533072], [45.3631386, 5.5910751], [47.3898617, 8.690503], [45.2928424, 5.6361825], [46.624684, 6.7769649], [46.7376732, 6.7654076], [45.6977109, 4.8855966], [46.1741035, 6.2578532], [46.2253413, 7.2812893], [49.2522866, 6.859519], [49.5410205, 6.8889313], [49.2485721, 8.516277], [48.8425793, 9.3305129], [48.4871621, 8.585848208006647], [48.9249963, 8.4683096], [48.0939396, 7.9610142], [47.6281754, 8.2408579], [47.1236457, 9.3149919], [49.3038134, 8.6433518], [47.4166195, 8.5919985], [47.4107645, 8.6458518], [47.2169587, 7.6586062], [49.5892164, 6.37869], [47.5932802, 7.6116133], [47.5842234, 9.9299019], [48.6173986, 9.5381895], [50.4327301, 8.3728157], [47.5669187, 9.1097539], [47.8075299, 9.6431145], [47.4199708, 8.4366271], [50.1184107, 7.8006865], [50.4145192, 7.4557539], [49.1903054, 7.9299822], [49.7614982, 9.5155411], [47.0553684, 8.1018157], [50.8247166, 6.9810852], [47.465839, 8.3266114], [47.3226925, 8.7980939], [50.5525346, 8.5074406], [50.0820384, 8.2416556], [47.2628109, 7.9675995], [47.1512512, 7.5583621], [47.1215184, 7.99659], [47.4608658, 7.2644495], [48.8754571, 9.3978478], [49.8746479, 7.6382229], [47.4991723, 8.7291498], [47.4009149, 9.0261061], [47.3504945, 8.2786906], [47.4667813, 9.750197], [47.1957261, 8.7194595], [46.9807679, 7.4615438], [49.6302618, 8.3620898], [47.1075375, 7.6685431], [50.2825991, 8.7598863], [46.8747403, 7.2761723], [46.8894589, 7.3110208], [47.5320878, 8.2569618], [46.7785711, 6.6409158], [47.7054471, 7.8476208], [46.0212076, 7.749254], [48.1671858, 8.5926774], [46.9959463, 7.4576417], [49.887824, 8.2276589], [47.2037591, 7.5594101], [47.3483234, 8.3580094], [47.1486137, 8.5539378], [47.3744489, 8.5410422], [47.3744489, 8.5410422], [47.3744489, 8.5410422], [47.6024254, 6.7736712], [45.1437, 5.71927], [46.400979, 6.5897931], [50.9213799, 6.1128698], [47.7667246, 9.1666488], [46.9482713, 7.4514512], [47.3744489, 8.5410422], [47.3744489, 8.5410422]],\n",
       "                {&quot;blur&quot;: 15, &quot;maxZoom&quot;: 18, &quot;minOpacity&quot;: 0.2, &quot;radius&quot;: 25}\n",
       "            ).addTo(map_8711893a8a52e9e451061337d5a2f818);\n",
       "        \n",
       "&lt;/script&gt;\n",
       "&lt;/html&gt;\" style=\"position:absolute;width:100%;height:100%;left:0;top:0;border:none !important;\" allowfullscreen webkitallowfullscreen mozallowfullscreen></iframe></div></div>"
      ],
      "text/plain": [
       "<folium.folium.Map at 0x7fa0d1980690>"
      ]
     },
     "metadata": {},
     "output_type": "display_data"
    }
   ],
   "source": [
    "plot_heatmap_count(data_train)"
   ]
  },
  {
   "cell_type": "markdown",
   "metadata": {},
   "source": []
  },
  {
   "cell_type": "markdown",
   "metadata": {},
   "source": [
    "### Analysis of features with the target"
   ]
  },
  {
   "cell_type": "code",
   "execution_count": 47,
   "metadata": {},
   "outputs": [
    {
     "data": {
      "image/png": "[encoded data removed]",
      "text/plain": [
       "<Figure size 432x288 with 1 Axes>"
      ]
     },
     "metadata": {
      "needs_background": "light"
     },
     "output_type": "display_data"
    },
    {
     "name": "stdout",
     "output_type": "stream",
     "text": [
      "\n"
     ]
    }
   ],
   "source": [
    "plt.hist(target_train, bins=90, edgecolor='black', color = '#1f77b4')\n",
    "plt.title('Histogram of the target')\n",
    "plt.xlabel('amount of likes on the user s profiles')\n",
    "plt.ylabel('Number of users')\n",
    "plt.axvline(x=target_train.mean(), color='#ff7f0e', label='mean: ' +str(round(target_train.mean())), linewidth=0.8, linestyle='--')\n",
    "plt.axvline(x=target_train.median(), color='black', label='median: ' +str(round(target_train.median())), linewidth=0.8, linestyle='--')\n",
    "plt.legend(loc='best')\n",
    "plt.show()\n",
    "print()"
   ]
  },
  {
   "cell_type": "code",
   "execution_count": 48,
   "metadata": {},
   "outputs": [
    {
     "data": {
      "text/plain": [
       "6155"
      ]
     },
     "execution_count": 48,
     "metadata": {},
     "output_type": "execute_result"
    }
   ],
   "source": [
    "max(target_train)"
   ]
  },
  {
   "cell_type": "markdown",
   "metadata": {},
   "source": [
    "Although, the maximum value of target_train is 6155, the target's values are much more concentrated on the lowest values.\n"
   ]
  },
  {
   "cell_type": "markdown",
   "metadata": {},
   "source": [
    "Let's now look at the the same histogram but diferentiating the users with and without description."
   ]
  },
  {
   "cell_type": "code",
   "execution_count": 49,
   "metadata": {},
   "outputs": [
    {
     "data": {
      "image/png": "[encoded data removed]",
      "text/plain": [
       "<Figure size 432x288 with 1 Axes>"
      ]
     },
     "metadata": {
      "needs_background": "light"
     },
     "output_type": "display_data"
    }
   ],
   "source": [
    "target_train_description = target_train[data_train['description']==1]\n",
    "target_train_no_description = target_train[data_train['description']==0]\n",
    "\n",
    "plt.hist(target_train_description, bins=np.linspace(0, max(target_train), 50), edgecolor='#1f77b4', color = '#1f77b4', density=True)\n",
    "plt.hist(target_train_no_description, bins=np.linspace(0, max(target_train), 50), edgecolor='#ff7f0e', color = '#ff7f0e', alpha=0.8, density=True)\n",
    "plt.title('Histogram of the target')\n",
    "plt.yscale('log')\n",
    "plt.xlabel('amount of likes on the user s profiles')\n",
    "plt.ylabel('Density')\n",
    "plt.legend(['With description', 'Without description'])\n",
    "plt.show()"
   ]
  },
  {
   "cell_type": "markdown",
   "metadata": {},
   "source": [
    "We can also look at this histogram, diferentiating whether the users have more or less than the median amount of pictures (4)."
   ]
  },
  {
   "cell_type": "code",
   "execution_count": 50,
   "metadata": {},
   "outputs": [
    {
     "data": {
      "image/png": "[encoded data removed]",
      "text/plain": [
       "<Figure size 432x288 with 1 Axes>"
      ]
     },
     "metadata": {
      "needs_background": "light"
     },
     "output_type": "display_data"
    }
   ],
   "source": [
    "median_pictures = data_train['counts_pictures'].median() #computation of the median amount of pictures\n",
    "target_train_lot_of_pictures = target_train[data_train['counts_pictures']>median_pictures]\n",
    "target_train_few_pictures = target_train[data_train['counts_pictures']<=median_pictures]\n",
    "\n",
    "plt.hist(target_train_lot_of_pictures, bins=np.linspace(0, max(target_train), 50), edgecolor='#1f77b4', color = '#1f77b4', density=True)\n",
    "plt.hist(target_train_few_pictures, bins=np.linspace(0, max(target_train), 50), edgecolor='#ff7f0e', color = '#ff7f0e', alpha=0.8, density=True)\n",
    "plt.title('Histogram of the target')\n",
    "plt.xlabel('amount of likes on the user s profiles')\n",
    "plt.yscale('log')\n",
    "plt.ylabel('Density')\n",
    "plt.legend(['Lot of pictures', 'Few pictures'])\n",
    "plt.show()"
   ]
  },
  {
   "cell_type": "markdown",
   "metadata": {},
   "source": [
    "Finally, we can look at this histogram diferentiating whether users are above or below the median age (22)."
   ]
  },
  {
   "cell_type": "code",
   "execution_count": 51,
   "metadata": {},
   "outputs": [
    {
     "data": {
      "image/png": "[encoded data removed]",
      "text/plain": [
       "<Figure size 432x288 with 1 Axes>"
      ]
     },
     "metadata": {
      "needs_background": "light"
     },
     "output_type": "display_data"
    }
   ],
   "source": [
    "median_age = data_train['age'].median() #computation of the median age\n",
    "target_train_oldest = target_train[data_train['age']>median_age]\n",
    "target_train_youngest = target_train[data_train['age']<=median_age]\n",
    "\n",
    "plt.hist(target_train_youngest, bins=np.linspace(0, max(target_train), 50), edgecolor='#1f77b4', color = '#1f77b4', density=True)\n",
    "plt.hist(target_train_oldest, bins=np.linspace(0, max(target_train), 50), edgecolor='#ff7f0e', color = '#ff7f0e', alpha=0.8, density=True)\n",
    "plt.yscale('log')\n",
    "plt.title('Histogram of the target')\n",
    "plt.xlabel('amount of likes on the user s profiles')\n",
    "plt.ylabel('Density')\n",
    "plt.legend(['Youngest users', 'Oldest users'])\n",
    "plt.show()\n"
   ]
  },
  {
   "cell_type": "code",
   "execution_count": 52,
   "metadata": {},
   "outputs": [
    {
     "data": {
      "image/png": "[encoded data removed]",
      "text/plain": [
       "<Figure size 936x504 with 1 Axes>"
      ]
     },
     "metadata": {
      "needs_background": "light"
     },
     "output_type": "display_data"
    }
   ],
   "source": [
    "# Define the categories for counts_pictures\n",
    "categories = [0, 1, '2-4', '5-7', '8-10', '11-13', '14-16', '17-19', '20-22', '23-25', '26-28', '29-31', '32-42', '43+']\n",
    "\n",
    "# Create a new column with the categories of counts_pictures\n",
    "df_plot = pd.cut(data_train['counts_pictures'], bins=[-1, 0, 1, 4, 7, 10, 13, 16, 19, 22, 25, 28, 31, 42, np.inf], labels=categories).to_frame()\n",
    "df_plot.columns = ['counts_pictures_categories']\n",
    "\n",
    "# Plot the boxplot with the new column\n",
    "fig, ax = plt.subplots(figsize=(13,7))\n",
    "ax = sns.boxplot(x=\"counts_pictures_categories\", y=target_train.values, data=df_plot)\n",
    "ax.axes.set_title(\"target_train according to the counts_pictures\")\n",
    "ax.set_xlabel(\"counts_pictures\")\n",
    "ax.set_ylabel(\"target_train\")\n",
    "plt.tight_layout()\n"
   ]
  },
  {
   "cell_type": "markdown",
   "metadata": {},
   "source": [
    "### Correlation study"
   ]
  },
  {
   "cell_type": "markdown",
   "metadata": {},
   "source": [
    "To have a more global visualization of the interferences betwwen the features and the target, we can also look at the correlation matrix heatmap."
   ]
  },
  {
   "cell_type": "code",
   "execution_count": 53,
   "metadata": {},
   "outputs": [
    {
     "data": {
      "image/png": "[encoded data removed]",
      "text/plain": [
       "<Figure size 720x576 with 2 Axes>"
      ]
     },
     "metadata": {
      "needs_background": "light"
     },
     "output_type": "display_data"
    }
   ],
   "source": [
    "#we create merge_data containing data_train and target_train\n",
    "merged_data = data_train.copy()\n",
    "merged_data['target'] = target_train\n",
    "merged_data = merged_data.drop(['isInfluencer', 'connectedToFacebook'], axis=1) #we don't want those features so we drop them\n",
    "\n",
    "fig, ax = plt.subplots(figsize=(10, 8))\n",
    "sns.heatmap(merged_data.corr(), annot=False, cmap='viridis', ax=ax)\n",
    "ax.set_title('Correlation Matrix Heatmap')\n",
    "plt.show()"
   ]
  },
  {
   "cell_type": "markdown",
   "metadata": {},
   "source": [
    "## Workflow\n",
    "### The model to submit"
   ]
  },
  {
   "cell_type": "markdown",
   "metadata": {},
   "source": [
    "The submission consists of one file: `estimator.py`  which defines a `FeatureExtractor` class, and `Regressor` class:\n",
    "\n",
    "- `FeatureExtractor` can (optionally) hold code to calculate and add additional features.\n",
    "- `Regressor` fits the model and predicts on (new) data, as outputted by the `FeatureExtractor`. The prediction should be in the form of a (n_samples, 1) array with the values predicted."
   ]
  },
  {
   "cell_type": "markdown",
   "metadata": {},
   "source": [
    "---\n",
    "\n",
    "An example `Estimator`, adding an additional feature based on the number of users by age, plus a regressor doing a Random Forest Regression:"
   ]
  },
  {
   "cell_type": "markdown",
   "metadata": {},
   "source": [
    "##"
   ]
  },
  {
   "cell_type": "code",
   "execution_count": 54,
   "metadata": {},
   "outputs": [],
   "source": [
    "from sklearn.base import BaseEstimator\n",
    "from sklearn.pipeline import make_pipeline\n",
    "from sklearn.preprocessing import StandardScaler\n",
    "from sklearn.ensemble import RandomForestRegressor\n",
    "from sklearn.impute import SimpleImputer\n",
    "\n",
    "\n",
    "class Regressor(BaseEstimator):\n",
    "    def __init__(self):\n",
    "        self.model = RandomForestRegressor()\n",
    "\n",
    "    def fit(self, X, y):\n",
    "        self.model.fit(X, y)\n",
    "\n",
    "    def predict(self, X):\n",
    "        y_pred = self.model.predict(X)\n",
    "        return y_pred\n",
    "\n",
    "\n",
    "class FeatureExtractor(BaseEstimator):\n",
    "    def fit(self, X, y):\n",
    "        self.nb_users_by_age = X.groupby(\"age\").agg({\"gender\": \"count\"}).reset_index()\n",
    "        self.nb_users_by_age.columns = [\"age\", \"nb_users\"]\n",
    "        return self\n",
    "\n",
    "    def transform(self, X):\n",
    "        X = X.drop(columns=[\"locationCity\"])\n",
    "\n",
    "        return X.merge(self.nb_users_by_age, on=\"age\", how=\"left\")\n",
    "\n",
    "\n",
    "def get_estimator():\n",
    "\n",
    "    feature_extractor = FeatureExtractor()\n",
    "\n",
    "    reg = Regressor()\n",
    "\n",
    "    impute_missing_values = SimpleImputer(strategy=\"mean\")\n",
    "\n",
    "    pipe = make_pipeline(\n",
    "        feature_extractor, impute_missing_values, StandardScaler(), reg\n",
    "    )\n",
    "    return pipe"
   ]
  },
  {
   "cell_type": "code",
   "execution_count": 57,
   "metadata": {},
   "outputs": [
    {
     "data": {
      "text/plain": [
       "Pipeline(steps=[('featureextractor', FeatureExtractor()),\n",
       "                ('simpleimputer', SimpleImputer()),\n",
       "                ('standardscaler', StandardScaler()),\n",
       "                ('regressor', Regressor())])"
      ]
     },
     "execution_count": 57,
     "metadata": {},
     "output_type": "execute_result"
    }
   ],
   "source": [
    "model = get_estimator()\n",
    "model.fit(data_train, target_train)"
   ]
  },
  {
   "cell_type": "code",
   "execution_count": 58,
   "metadata": {},
   "outputs": [],
   "source": [
    "y_pred = model.predict(data_test)"
   ]
  },
  {
   "cell_type": "code",
   "execution_count": 59,
   "metadata": {},
   "outputs": [
    {
     "data": {
      "text/plain": [
       "(799,)"
      ]
     },
     "execution_count": 59,
     "metadata": {},
     "output_type": "execute_result"
    }
   ],
   "source": [
    "y_pred.shape"
   ]
  },
  {
   "cell_type": "code",
   "execution_count": 60,
   "metadata": {},
   "outputs": [
    {
     "data": {
      "text/plain": [
       "array([547.65, 472.96,  11.82,  76.84, 113.57, 108.83, 232.91, 165.09,\n",
       "       116.03, 329.94])"
      ]
     },
     "execution_count": 60,
     "metadata": {},
     "output_type": "execute_result"
    }
   ],
   "source": [
    "y_pred[:10]"
   ]
  },
  {
   "cell_type": "markdown",
   "metadata": {},
   "source": [
    "### Evaluation"
   ]
  },
  {
   "cell_type": "code",
   "execution_count": 61,
   "metadata": {},
   "outputs": [],
   "source": [
    "from sklearn.metrics import mean_absolute_error"
   ]
  },
  {
   "cell_type": "code",
   "execution_count": 62,
   "metadata": {},
   "outputs": [
    {
     "data": {
      "text/plain": [
       "179.97641326956318"
      ]
     },
     "execution_count": 62,
     "metadata": {},
     "output_type": "execute_result"
    }
   ],
   "source": [
    "mean_absolute_error(target_test, y_pred)"
   ]
  },
  {
   "cell_type": "markdown",
   "metadata": {},
   "source": [
    "### Evaluation with Cross-Validation"
   ]
  },
  {
   "cell_type": "code",
   "execution_count": 63,
   "metadata": {},
   "outputs": [],
   "source": [
    "from sklearn.pipeline import make_pipeline\n",
    "from sklearn.model_selection import cross_validate\n",
    "\n",
    "def evaluation(X, y):\n",
    "    pipe = make_pipeline(\n",
    "        FeatureExtractor(),\n",
    "        SimpleImputer(strategy=\"mean\"),\n",
    "        StandardScaler(),\n",
    "        Regressor())\n",
    "    results = cross_validate(\n",
    "        pipe,\n",
    "        X,\n",
    "        y,\n",
    "        scoring=[\"r2\", \"neg_mean_absolute_error\"],\n",
    "        cv=5,\n",
    "        verbose=1,\n",
    "        return_train_score=True,\n",
    "        n_jobs=-1, # Use all cores\n",
    "    )\n",
    "\n",
    "    return results"
   ]
  },
  {
   "cell_type": "code",
   "execution_count": 64,
   "metadata": {},
   "outputs": [
    {
     "name": "stderr",
     "output_type": "stream",
     "text": [
      "[Parallel(n_jobs=-1)]: Using backend LokyBackend with 4 concurrent workers.\n",
      "[Parallel(n_jobs=-1)]: Done   5 out of   5 | elapsed:    8.3s finished\n"
     ]
    }
   ],
   "source": [
    "results = evaluation(data_train, target_train)"
   ]
  },
  {
   "cell_type": "code",
   "execution_count": 65,
   "metadata": {},
   "outputs": [
    {
     "name": "stdout",
     "output_type": "stream",
     "text": [
      "Training score R2: 0.872 +- 0.006\n",
      "Testing score R2: 0.112 +- 0.075 \n",
      "\n"
     ]
    }
   ],
   "source": [
    "print(\n",
    "    \"Training score R2: {:.3f} +- {:.3f}\".format(\n",
    "        np.mean(results[\"train_r2\"]), np.std(results[\"train_r2\"])\n",
    "    )\n",
    ")\n",
    "print(\n",
    "    \"Testing score R2: {:.3f} +- {:.3f} \\n\".format(\n",
    "        np.mean(results[\"test_r2\"]), np.std(results[\"test_r2\"])\n",
    "    )\n",
    ")"
   ]
  },
  {
   "cell_type": "code",
   "execution_count": null,
   "metadata": {},
   "outputs": [],
   "source": []
  }
 ],
 "metadata": {
  "kernelspec": {
   "display_name": "Python 3",
   "language": "python",
   "name": "python3"
  },
  "language_info": {
   "codemirror_mode": {
    "name": "ipython",
    "version": 3
   },
   "file_extension": ".py",
   "mimetype": "text/x-python",
   "name": "python",
   "nbconvert_exporter": "python",
   "pygments_lexer": "ipython3",
   "version": "3.7.4"
  },
  "vscode": {
   "interpreter": {
    "hash": "40d3a090f54c6569ab1632332b64b2c03c39dcf918b08424e98f38b5ae0af88f"
   }
  }
 },
 "nbformat": 4,
 "nbformat_minor": 2
}
