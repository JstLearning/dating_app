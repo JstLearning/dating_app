{
 "cells": [
  {
   "cell_type": "markdown",
   "metadata": {},
   "source": [
    "# Ramp on predicting likes in Dating Apps\n",
    "\n",
    "Charlotte Cournon, Solène Debuysère, Godefroy Du Chalard, Yanis Lalou, Agathe Minaro, Luka Trailovic"
   ]
  },
  {
   "cell_type": "markdown",
   "metadata": {},
   "source": [
    "## Table of Contents\n",
    "\n",
    "1. Introduction\n",
    "2. Getting started with the RAMP Starting Kit\n",
    "    1. Software prerequisites\n",
    "    2. Downloading the data\n",
    "3. The Data\n",
    "    1. Getting the data\n",
    "    2. Preprocessing the data\n",
    "4. Workflow\n",
    "5. Submitting to the online challenge: ramp.studio\n",
    "    \n"
   ]
  },
  {
   "cell_type": "markdown",
   "metadata": {},
   "source": [
    "## Introduction"
   ]
  },
  {
   "cell_type": "markdown",
   "metadata": {},
   "source": [
    "<div class=\"alert alert-block alert-danger\">\n",
    "<span style=\"color:red\"> <b>Ecrire une introduction</b>\n",
    "</div>"
   ]
  },
  {
   "cell_type": "markdown",
   "metadata": {},
   "source": [
    "## Getting started with the RAMP Starting Kit\n",
    "### Software prerequisites"
   ]
  },
  {
   "cell_type": "markdown",
   "metadata": {},
   "source": [
    "This starting kit requires several packages, to install them, you can directly run from the root of the starting kit:\n",
    "    \n",
    "    pip install -r requirements.txt"
   ]
  },
  {
   "cell_type": "markdown",
   "metadata": {},
   "source": [
    "### Getting the data\n",
    "\n",
    "To download the public data, you can run from the root of the starting kit:\n",
    "\n",
    "    python download_data.py"
   ]
  },
  {
   "cell_type": "code",
   "execution_count": 1,
   "metadata": {},
   "outputs": [],
   "source": [
    "%matplotlib inline\n",
    "\n",
    "import pandas as pd\n",
    "import numpy as np\n",
    "import matplotlib.pyplot as plt"
   ]
  },
  {
   "cell_type": "markdown",
   "metadata": {},
   "source": [
    "## The Data"
   ]
  },
  {
   "cell_type": "markdown",
   "metadata": {},
   "source": [
    "### Get the data and Preprocessing it"
   ]
  },
  {
   "cell_type": "code",
   "execution_count": 2,
   "metadata": {},
   "outputs": [],
   "source": [
    "from problem import get_train_data, get_test_data"
   ]
  },
  {
   "cell_type": "code",
   "execution_count": 3,
   "metadata": {},
   "outputs": [],
   "source": [
    "data_train, target_train = get_train_data()\n",
    "data_test, target_test = get_test_data()"
   ]
  },
  {
   "cell_type": "code",
   "execution_count": 4,
   "metadata": {},
   "outputs": [
    {
     "data": {
      "text/html": [
       "<div>\n",
       "<style scoped>\n",
       "    .dataframe tbody tr th:only-of-type {\n",
       "        vertical-align: middle;\n",
       "    }\n",
       "\n",
       "    .dataframe tbody tr th {\n",
       "        vertical-align: top;\n",
       "    }\n",
       "\n",
       "    .dataframe thead th {\n",
       "        text-align: right;\n",
       "    }\n",
       "</style>\n",
       "<table border=\"1\" class=\"dataframe\">\n",
       "  <thead>\n",
       "    <tr style=\"text-align: right;\">\n",
       "      <th></th>\n",
       "      <th>gender</th>\n",
       "      <th>genderLooking</th>\n",
       "      <th>age</th>\n",
       "      <th>counts_details</th>\n",
       "      <th>counts_pictures</th>\n",
       "      <th>counts_fans</th>\n",
       "      <th>flirtInterests_chat</th>\n",
       "      <th>flirtInterests_friends</th>\n",
       "      <th>flirtInterests_date</th>\n",
       "      <th>country</th>\n",
       "      <th>...</th>\n",
       "      <th>lang_es</th>\n",
       "      <th>lang_pt</th>\n",
       "      <th>verified</th>\n",
       "      <th>shareProfileEnabled</th>\n",
       "      <th>lastOnlineDate</th>\n",
       "      <th>lastOnlineTime</th>\n",
       "      <th>birthd</th>\n",
       "      <th>connectedToFacebook</th>\n",
       "      <th>countDetails</th>\n",
       "      <th>description</th>\n",
       "    </tr>\n",
       "    <tr>\n",
       "      <th>userId</th>\n",
       "      <th></th>\n",
       "      <th></th>\n",
       "      <th></th>\n",
       "      <th></th>\n",
       "      <th></th>\n",
       "      <th></th>\n",
       "      <th></th>\n",
       "      <th></th>\n",
       "      <th></th>\n",
       "      <th></th>\n",
       "      <th></th>\n",
       "      <th></th>\n",
       "      <th></th>\n",
       "      <th></th>\n",
       "      <th></th>\n",
       "      <th></th>\n",
       "      <th></th>\n",
       "      <th></th>\n",
       "      <th></th>\n",
       "      <th></th>\n",
       "      <th></th>\n",
       "    </tr>\n",
       "  </thead>\n",
       "  <tbody>\n",
       "    <tr>\n",
       "      <th>535585c9140ba0be2a8b4ec4</th>\n",
       "      <td>0</td>\n",
       "      <td>3</td>\n",
       "      <td>24</td>\n",
       "      <td>0.90</td>\n",
       "      <td>10</td>\n",
       "      <td>0</td>\n",
       "      <td>1</td>\n",
       "      <td>1</td>\n",
       "      <td>1</td>\n",
       "      <td>8</td>\n",
       "      <td>...</td>\n",
       "      <td>0</td>\n",
       "      <td>0</td>\n",
       "      <td>0</td>\n",
       "      <td>1</td>\n",
       "      <td>1430092800000000000</td>\n",
       "      <td>1.430163e+09</td>\n",
       "      <td>0</td>\n",
       "      <td>0.0</td>\n",
       "      <td>0.90</td>\n",
       "      <td>1</td>\n",
       "    </tr>\n",
       "    <tr>\n",
       "      <th>535c9b2f190ba04c408b7cc1</th>\n",
       "      <td>0</td>\n",
       "      <td>3</td>\n",
       "      <td>22</td>\n",
       "      <td>0.80</td>\n",
       "      <td>3</td>\n",
       "      <td>0</td>\n",
       "      <td>0</td>\n",
       "      <td>0</td>\n",
       "      <td>1</td>\n",
       "      <td>7</td>\n",
       "      <td>...</td>\n",
       "      <td>0</td>\n",
       "      <td>0</td>\n",
       "      <td>0</td>\n",
       "      <td>1</td>\n",
       "      <td>1430006400000000000</td>\n",
       "      <td>1.430035e+09</td>\n",
       "      <td>0</td>\n",
       "      <td>0.0</td>\n",
       "      <td>0.80</td>\n",
       "      <td>0</td>\n",
       "    </tr>\n",
       "    <tr>\n",
       "      <th>54d78595c86da1302f8b48b0</th>\n",
       "      <td>0</td>\n",
       "      <td>1</td>\n",
       "      <td>25</td>\n",
       "      <td>0.96</td>\n",
       "      <td>15</td>\n",
       "      <td>0</td>\n",
       "      <td>1</td>\n",
       "      <td>0</td>\n",
       "      <td>0</td>\n",
       "      <td>7</td>\n",
       "      <td>...</td>\n",
       "      <td>0</td>\n",
       "      <td>0</td>\n",
       "      <td>1</td>\n",
       "      <td>1</td>\n",
       "      <td>1428278400000000000</td>\n",
       "      <td>1.428320e+09</td>\n",
       "      <td>0</td>\n",
       "      <td>NaN</td>\n",
       "      <td>NaN</td>\n",
       "      <td>1</td>\n",
       "    </tr>\n",
       "    <tr>\n",
       "      <th>537e5414190ba0ee648b4db1</th>\n",
       "      <td>0</td>\n",
       "      <td>1</td>\n",
       "      <td>20</td>\n",
       "      <td>0.73</td>\n",
       "      <td>22</td>\n",
       "      <td>4</td>\n",
       "      <td>0</td>\n",
       "      <td>1</td>\n",
       "      <td>0</td>\n",
       "      <td>13</td>\n",
       "      <td>...</td>\n",
       "      <td>0</td>\n",
       "      <td>0</td>\n",
       "      <td>0</td>\n",
       "      <td>1</td>\n",
       "      <td>1428451200000000000</td>\n",
       "      <td>1.428506e+09</td>\n",
       "      <td>0</td>\n",
       "      <td>0.0</td>\n",
       "      <td>0.73</td>\n",
       "      <td>0</td>\n",
       "    </tr>\n",
       "    <tr>\n",
       "      <th>53055430cb6da17a878b49b6</th>\n",
       "      <td>0</td>\n",
       "      <td>1</td>\n",
       "      <td>22</td>\n",
       "      <td>1.00</td>\n",
       "      <td>3</td>\n",
       "      <td>0</td>\n",
       "      <td>1</td>\n",
       "      <td>0</td>\n",
       "      <td>0</td>\n",
       "      <td>13</td>\n",
       "      <td>...</td>\n",
       "      <td>0</td>\n",
       "      <td>0</td>\n",
       "      <td>0</td>\n",
       "      <td>1</td>\n",
       "      <td>1428883200000000000</td>\n",
       "      <td>1.428887e+09</td>\n",
       "      <td>0</td>\n",
       "      <td>0.0</td>\n",
       "      <td>1.00</td>\n",
       "      <td>1</td>\n",
       "    </tr>\n",
       "  </tbody>\n",
       "</table>\n",
       "<p>5 rows × 32 columns</p>\n",
       "</div>"
      ],
      "text/plain": [
       "                          gender  genderLooking  age  counts_details  \\\n",
       "userId                                                                 \n",
       "535585c9140ba0be2a8b4ec4       0              3   24            0.90   \n",
       "535c9b2f190ba04c408b7cc1       0              3   22            0.80   \n",
       "54d78595c86da1302f8b48b0       0              1   25            0.96   \n",
       "537e5414190ba0ee648b4db1       0              1   20            0.73   \n",
       "53055430cb6da17a878b49b6       0              1   22            1.00   \n",
       "\n",
       "                          counts_pictures  counts_fans  flirtInterests_chat  \\\n",
       "userId                                                                        \n",
       "535585c9140ba0be2a8b4ec4               10            0                    1   \n",
       "535c9b2f190ba04c408b7cc1                3            0                    0   \n",
       "54d78595c86da1302f8b48b0               15            0                    1   \n",
       "537e5414190ba0ee648b4db1               22            4                    0   \n",
       "53055430cb6da17a878b49b6                3            0                    1   \n",
       "\n",
       "                          flirtInterests_friends  flirtInterests_date  \\\n",
       "userId                                                                  \n",
       "535585c9140ba0be2a8b4ec4                       1                    1   \n",
       "535c9b2f190ba04c408b7cc1                       0                    1   \n",
       "54d78595c86da1302f8b48b0                       0                    0   \n",
       "537e5414190ba0ee648b4db1                       1                    0   \n",
       "53055430cb6da17a878b49b6                       0                    0   \n",
       "\n",
       "                          country  ...  lang_es  lang_pt  verified  \\\n",
       "userId                             ...                               \n",
       "535585c9140ba0be2a8b4ec4        8  ...        0        0         0   \n",
       "535c9b2f190ba04c408b7cc1        7  ...        0        0         0   \n",
       "54d78595c86da1302f8b48b0        7  ...        0        0         1   \n",
       "537e5414190ba0ee648b4db1       13  ...        0        0         0   \n",
       "53055430cb6da17a878b49b6       13  ...        0        0         0   \n",
       "\n",
       "                          shareProfileEnabled       lastOnlineDate  \\\n",
       "userId                                                               \n",
       "535585c9140ba0be2a8b4ec4                    1  1430092800000000000   \n",
       "535c9b2f190ba04c408b7cc1                    1  1430006400000000000   \n",
       "54d78595c86da1302f8b48b0                    1  1428278400000000000   \n",
       "537e5414190ba0ee648b4db1                    1  1428451200000000000   \n",
       "53055430cb6da17a878b49b6                    1  1428883200000000000   \n",
       "\n",
       "                          lastOnlineTime  birthd  connectedToFacebook  \\\n",
       "userId                                                                  \n",
       "535585c9140ba0be2a8b4ec4    1.430163e+09       0                  0.0   \n",
       "535c9b2f190ba04c408b7cc1    1.430035e+09       0                  0.0   \n",
       "54d78595c86da1302f8b48b0    1.428320e+09       0                  NaN   \n",
       "537e5414190ba0ee648b4db1    1.428506e+09       0                  0.0   \n",
       "53055430cb6da17a878b49b6    1.428887e+09       0                  0.0   \n",
       "\n",
       "                          countDetails  description  \n",
       "userId                                               \n",
       "535585c9140ba0be2a8b4ec4          0.90            1  \n",
       "535c9b2f190ba04c408b7cc1          0.80            0  \n",
       "54d78595c86da1302f8b48b0           NaN            1  \n",
       "537e5414190ba0ee648b4db1          0.73            0  \n",
       "53055430cb6da17a878b49b6          1.00            1  \n",
       "\n",
       "[5 rows x 32 columns]"
      ]
     },
     "execution_count": 4,
     "metadata": {},
     "output_type": "execute_result"
    }
   ],
   "source": [
    "data_train.head()"
   ]
  },
  {
   "cell_type": "markdown",
   "metadata": {},
   "source": [
    "<div class=\"alert alert-block alert-danger\">\n",
    "<span style=\"color:red\"> <b>Description of each column</b>\n",
    "</div>"
   ]
  },
  {
   "cell_type": "markdown",
   "metadata": {},
   "source": [
    "<div class=\"alert alert-block alert-danger\">\n",
    "<span style=\"color:red\"> <b>Explication of the preprocessing of each column</b>\n",
    "</div>\n"
   ]
  },
  {
   "cell_type": "code",
   "execution_count": 9,
   "metadata": {},
   "outputs": [
    {
     "name": "stdout",
     "output_type": "stream",
     "text": [
      "<class 'pandas.core.frame.DataFrame'>\n",
      "Index: 3193 entries, 535585c9140ba0be2a8b4ec4 to 55204d28076ea157768b48da\n",
      "Data columns (total 32 columns):\n",
      " #   Column                  Non-Null Count  Dtype  \n",
      "---  ------                  --------------  -----  \n",
      " 0   gender                  3193 non-null   int64  \n",
      " 1   genderLooking           3193 non-null   int64  \n",
      " 2   age                     3193 non-null   int64  \n",
      " 3   counts_details          3193 non-null   float64\n",
      " 4   counts_pictures         3193 non-null   int64  \n",
      " 5   counts_fans             3193 non-null   int64  \n",
      " 6   flirtInterests_chat     3193 non-null   int64  \n",
      " 7   flirtInterests_friends  3193 non-null   int64  \n",
      " 8   flirtInterests_date     3193 non-null   int64  \n",
      " 9   country                 3193 non-null   int8   \n",
      " 10  isFlirtstar             3193 non-null   int64  \n",
      " 11  isHighlighted           3193 non-null   int64  \n",
      " 12  isInfluencer            3193 non-null   int64  \n",
      " 13  isMobile                3193 non-null   int64  \n",
      " 14  isNew                   3193 non-null   int64  \n",
      " 15  isOnline                3193 non-null   int64  \n",
      " 16  isVip                   3193 non-null   int64  \n",
      " 17  lang_count              3193 non-null   int64  \n",
      " 18  lang_fr                 3193 non-null   int64  \n",
      " 19  lang_en                 3193 non-null   int64  \n",
      " 20  lang_de                 3193 non-null   int64  \n",
      " 21  lang_it                 3193 non-null   int64  \n",
      " 22  lang_es                 3193 non-null   int64  \n",
      " 23  lang_pt                 3193 non-null   int64  \n",
      " 24  verified                3193 non-null   int64  \n",
      " 25  shareProfileEnabled     3193 non-null   int64  \n",
      " 26  lastOnlineDate          3193 non-null   int64  \n",
      " 27  lastOnlineTime          3193 non-null   float64\n",
      " 28  birthd                  3193 non-null   int64  \n",
      " 29  connectedToFacebook     2336 non-null   float64\n",
      " 30  countDetails            2336 non-null   float64\n",
      " 31  description             3193 non-null   int64  \n",
      "dtypes: float64(4), int64(27), int8(1)\n",
      "memory usage: 801.4+ KB\n"
     ]
    }
   ],
   "source": [
    "data_train.info()"
   ]
  },
  {
   "cell_type": "markdown",
   "metadata": {},
   "source": [
    "### Analyse data"
   ]
  },
  {
   "cell_type": "markdown",
   "metadata": {},
   "source": [
    "<div class=\"alert alert-block alert-danger\">\n",
    "<span style=\"color:red\"> <b>Create graphes</b>\n",
    "</div>"
   ]
  },
  {
   "cell_type": "markdown",
   "metadata": {},
   "source": [
    "## Workflow\n",
    "### The model to submit"
   ]
  },
  {
   "cell_type": "markdown",
   "metadata": {},
   "source": [
    "The submission consists of one file: `estimator.py`  which defines a `FeatureExtractor` class, and `Regressor` class:\n",
    "\n",
    "- `FeatureExtractor` can (optionally) hold code to calculate and add additional features.\n",
    "- `Regressor` fits the model and predicts on (new) data, as outputted by the `FeatureExtractor`. The prediction should be in the form of a (n_samples, 1) array with the values predicted."
   ]
  },
  {
   "cell_type": "markdown",
   "metadata": {},
   "source": [
    "---\n",
    "\n",
    "An example `Estimator`, adding an additional feature based on the number of users by age, plus a regressor doing a Random Forest Regression:"
   ]
  },
  {
   "cell_type": "markdown",
   "metadata": {},
   "source": [
    "##"
   ]
  },
  {
   "cell_type": "code",
   "execution_count": 18,
   "metadata": {},
   "outputs": [],
   "source": [
    "from sklearn.base import BaseEstimator\n",
    "from sklearn.pipeline import make_pipeline\n",
    "from sklearn.preprocessing import StandardScaler\n",
    "from sklearn.ensemble import RandomForestRegressor\n",
    "from sklearn.impute import SimpleImputer\n",
    "\n",
    "\n",
    "class Regressor(BaseEstimator):\n",
    "    def __init__(self):\n",
    "        self.model = RandomForestRegressor()\n",
    "\n",
    "    def fit(self, X, y):\n",
    "        self.model.fit(X, y)\n",
    "\n",
    "    def predict(self, X):\n",
    "        y_pred = self.model.predict(X)\n",
    "        return y_pred\n",
    "\n",
    "\n",
    "class FeatureExtractor(BaseEstimator):\n",
    "    def fit(self, X, y):\n",
    "        self.nb_users_by_age = X.groupby(\"age\").agg({\"gender\": \"count\"}).reset_index()\n",
    "        self.nb_users_by_age.columns = [\"age\", \"nb_users\"]\n",
    "        return self\n",
    "\n",
    "    def transform(self, X):\n",
    "        return X.merge(self.nb_users_by_age, on=\"age\", how=\"left\")\n",
    "\n",
    "\n",
    "def get_estimator():\n",
    "\n",
    "    feature_extractor = FeatureExtractor()\n",
    "\n",
    "    reg = Regressor()\n",
    "\n",
    "    impute_missing_values = SimpleImputer(strategy=\"mean\")\n",
    "\n",
    "    pipe = make_pipeline(\n",
    "        feature_extractor, impute_missing_values, StandardScaler(), reg\n",
    "    )\n",
    "    return pipe"
   ]
  },
  {
   "cell_type": "code",
   "execution_count": 19,
   "metadata": {},
   "outputs": [
    {
     "data": {
      "text/html": [
       "<style>#sk-container-id-1 {color: black;background-color: white;}#sk-container-id-1 pre{padding: 0;}#sk-container-id-1 div.sk-toggleable {background-color: white;}#sk-container-id-1 label.sk-toggleable__label {cursor: pointer;display: block;width: 100%;margin-bottom: 0;padding: 0.3em;box-sizing: border-box;text-align: center;}#sk-container-id-1 label.sk-toggleable__label-arrow:before {content: \"▸\";float: left;margin-right: 0.25em;color: #696969;}#sk-container-id-1 label.sk-toggleable__label-arrow:hover:before {color: black;}#sk-container-id-1 div.sk-estimator:hover label.sk-toggleable__label-arrow:before {color: black;}#sk-container-id-1 div.sk-toggleable__content {max-height: 0;max-width: 0;overflow: hidden;text-align: left;background-color: #f0f8ff;}#sk-container-id-1 div.sk-toggleable__content pre {margin: 0.2em;color: black;border-radius: 0.25em;background-color: #f0f8ff;}#sk-container-id-1 input.sk-toggleable__control:checked~div.sk-toggleable__content {max-height: 200px;max-width: 100%;overflow: auto;}#sk-container-id-1 input.sk-toggleable__control:checked~label.sk-toggleable__label-arrow:before {content: \"▾\";}#sk-container-id-1 div.sk-estimator input.sk-toggleable__control:checked~label.sk-toggleable__label {background-color: #d4ebff;}#sk-container-id-1 div.sk-label input.sk-toggleable__control:checked~label.sk-toggleable__label {background-color: #d4ebff;}#sk-container-id-1 input.sk-hidden--visually {border: 0;clip: rect(1px 1px 1px 1px);clip: rect(1px, 1px, 1px, 1px);height: 1px;margin: -1px;overflow: hidden;padding: 0;position: absolute;width: 1px;}#sk-container-id-1 div.sk-estimator {font-family: monospace;background-color: #f0f8ff;border: 1px dotted black;border-radius: 0.25em;box-sizing: border-box;margin-bottom: 0.5em;}#sk-container-id-1 div.sk-estimator:hover {background-color: #d4ebff;}#sk-container-id-1 div.sk-parallel-item::after {content: \"\";width: 100%;border-bottom: 1px solid gray;flex-grow: 1;}#sk-container-id-1 div.sk-label:hover label.sk-toggleable__label {background-color: #d4ebff;}#sk-container-id-1 div.sk-serial::before {content: \"\";position: absolute;border-left: 1px solid gray;box-sizing: border-box;top: 0;bottom: 0;left: 50%;z-index: 0;}#sk-container-id-1 div.sk-serial {display: flex;flex-direction: column;align-items: center;background-color: white;padding-right: 0.2em;padding-left: 0.2em;position: relative;}#sk-container-id-1 div.sk-item {position: relative;z-index: 1;}#sk-container-id-1 div.sk-parallel {display: flex;align-items: stretch;justify-content: center;background-color: white;position: relative;}#sk-container-id-1 div.sk-item::before, #sk-container-id-1 div.sk-parallel-item::before {content: \"\";position: absolute;border-left: 1px solid gray;box-sizing: border-box;top: 0;bottom: 0;left: 50%;z-index: -1;}#sk-container-id-1 div.sk-parallel-item {display: flex;flex-direction: column;z-index: 1;position: relative;background-color: white;}#sk-container-id-1 div.sk-parallel-item:first-child::after {align-self: flex-end;width: 50%;}#sk-container-id-1 div.sk-parallel-item:last-child::after {align-self: flex-start;width: 50%;}#sk-container-id-1 div.sk-parallel-item:only-child::after {width: 0;}#sk-container-id-1 div.sk-dashed-wrapped {border: 1px dashed gray;margin: 0 0.4em 0.5em 0.4em;box-sizing: border-box;padding-bottom: 0.4em;background-color: white;}#sk-container-id-1 div.sk-label label {font-family: monospace;font-weight: bold;display: inline-block;line-height: 1.2em;}#sk-container-id-1 div.sk-label-container {text-align: center;}#sk-container-id-1 div.sk-container {/* jupyter's `normalize.less` sets `[hidden] { display: none; }` but bootstrap.min.css set `[hidden] { display: none !important; }` so we also need the `!important` here to be able to override the default hidden behavior on the sphinx rendered scikit-learn.org. See: https://github.com/scikit-learn/scikit-learn/issues/21755 */display: inline-block !important;position: relative;}#sk-container-id-1 div.sk-text-repr-fallback {display: none;}</style><div id=\"sk-container-id-1\" class=\"sk-top-container\"><div class=\"sk-text-repr-fallback\"><pre>Pipeline(steps=[(&#x27;featureextractor&#x27;, FeatureExtractor()),\n",
       "                (&#x27;simpleimputer&#x27;, SimpleImputer()),\n",
       "                (&#x27;standardscaler&#x27;, StandardScaler()),\n",
       "                (&#x27;regressor&#x27;, Regressor())])</pre><b>In a Jupyter environment, please rerun this cell to show the HTML representation or trust the notebook. <br />On GitHub, the HTML representation is unable to render, please try loading this page with nbviewer.org.</b></div><div class=\"sk-container\" hidden><div class=\"sk-item sk-dashed-wrapped\"><div class=\"sk-label-container\"><div class=\"sk-label sk-toggleable\"><input class=\"sk-toggleable__control sk-hidden--visually\" id=\"sk-estimator-id-1\" type=\"checkbox\" ><label for=\"sk-estimator-id-1\" class=\"sk-toggleable__label sk-toggleable__label-arrow\">Pipeline</label><div class=\"sk-toggleable__content\"><pre>Pipeline(steps=[(&#x27;featureextractor&#x27;, FeatureExtractor()),\n",
       "                (&#x27;simpleimputer&#x27;, SimpleImputer()),\n",
       "                (&#x27;standardscaler&#x27;, StandardScaler()),\n",
       "                (&#x27;regressor&#x27;, Regressor())])</pre></div></div></div><div class=\"sk-serial\"><div class=\"sk-item\"><div class=\"sk-estimator sk-toggleable\"><input class=\"sk-toggleable__control sk-hidden--visually\" id=\"sk-estimator-id-2\" type=\"checkbox\" ><label for=\"sk-estimator-id-2\" class=\"sk-toggleable__label sk-toggleable__label-arrow\">FeatureExtractor</label><div class=\"sk-toggleable__content\"><pre>FeatureExtractor()</pre></div></div></div><div class=\"sk-item\"><div class=\"sk-estimator sk-toggleable\"><input class=\"sk-toggleable__control sk-hidden--visually\" id=\"sk-estimator-id-3\" type=\"checkbox\" ><label for=\"sk-estimator-id-3\" class=\"sk-toggleable__label sk-toggleable__label-arrow\">SimpleImputer</label><div class=\"sk-toggleable__content\"><pre>SimpleImputer()</pre></div></div></div><div class=\"sk-item\"><div class=\"sk-estimator sk-toggleable\"><input class=\"sk-toggleable__control sk-hidden--visually\" id=\"sk-estimator-id-4\" type=\"checkbox\" ><label for=\"sk-estimator-id-4\" class=\"sk-toggleable__label sk-toggleable__label-arrow\">StandardScaler</label><div class=\"sk-toggleable__content\"><pre>StandardScaler()</pre></div></div></div><div class=\"sk-item\"><div class=\"sk-estimator sk-toggleable\"><input class=\"sk-toggleable__control sk-hidden--visually\" id=\"sk-estimator-id-5\" type=\"checkbox\" ><label for=\"sk-estimator-id-5\" class=\"sk-toggleable__label sk-toggleable__label-arrow\">Regressor</label><div class=\"sk-toggleable__content\"><pre>Regressor()</pre></div></div></div></div></div></div></div>"
      ],
      "text/plain": [
       "Pipeline(steps=[('featureextractor', FeatureExtractor()),\n",
       "                ('simpleimputer', SimpleImputer()),\n",
       "                ('standardscaler', StandardScaler()),\n",
       "                ('regressor', Regressor())])"
      ]
     },
     "execution_count": 19,
     "metadata": {},
     "output_type": "execute_result"
    }
   ],
   "source": [
    "model = get_estimator()\n",
    "model.fit(data_train, target_train)"
   ]
  },
  {
   "cell_type": "code",
   "execution_count": 20,
   "metadata": {},
   "outputs": [],
   "source": [
    "y_pred = model.predict(data_test)"
   ]
  },
  {
   "cell_type": "code",
   "execution_count": 14,
   "metadata": {},
   "outputs": [
    {
     "data": {
      "text/plain": [
       "(799,)"
      ]
     },
     "execution_count": 14,
     "metadata": {},
     "output_type": "execute_result"
    }
   ],
   "source": [
    "y_pred.shape"
   ]
  },
  {
   "cell_type": "code",
   "execution_count": 15,
   "metadata": {},
   "outputs": [
    {
     "data": {
      "text/plain": [
       "array([586.93, 391.62,  13.03,  89.95, 130.55, 112.27, 113.58, 160.83,\n",
       "       109.33, 286.2 ])"
      ]
     },
     "execution_count": 15,
     "metadata": {},
     "output_type": "execute_result"
    }
   ],
   "source": [
    "y_pred[:10]"
   ]
  },
  {
   "cell_type": "markdown",
   "metadata": {},
   "source": [
    "### Evaluation"
   ]
  },
  {
   "cell_type": "code",
   "execution_count": 16,
   "metadata": {},
   "outputs": [],
   "source": [
    "from sklearn.metrics import mean_absolute_error"
   ]
  },
  {
   "cell_type": "code",
   "execution_count": 17,
   "metadata": {},
   "outputs": [
    {
     "data": {
      "text/plain": [
       "181.9924851898206"
      ]
     },
     "execution_count": 17,
     "metadata": {},
     "output_type": "execute_result"
    }
   ],
   "source": [
    "mean_absolute_error(target_test, y_pred)"
   ]
  },
  {
   "cell_type": "markdown",
   "metadata": {},
   "source": [
    "### Evaluation with Cross-Validation"
   ]
  },
  {
   "cell_type": "code",
   "execution_count": 18,
   "metadata": {},
   "outputs": [],
   "source": [
    "from sklearn.pipeline import make_pipeline\n",
    "from sklearn.model_selection import cross_validate\n",
    "\n",
    "def evaluation(X, y):\n",
    "    pipe = make_pipeline(\n",
    "        FeatureExtractor(),\n",
    "        SimpleImputer(strategy=\"mean\"),\n",
    "        StandardScaler(),\n",
    "        Regressor())\n",
    "    results = cross_validate(\n",
    "        pipe,\n",
    "        X,\n",
    "        y,\n",
    "        scoring=[\"r2\", \"neg_mean_absolute_error\"],\n",
    "        cv=5,\n",
    "        verbose=1,\n",
    "        return_train_score=True,\n",
    "        n_jobs=-1, # Use all cores\n",
    "    )\n",
    "\n",
    "    return results"
   ]
  },
  {
   "cell_type": "code",
   "execution_count": 19,
   "metadata": {},
   "outputs": [
    {
     "name": "stderr",
     "output_type": "stream",
     "text": [
      "[Parallel(n_jobs=-1)]: Using backend LokyBackend with 8 concurrent workers.\n",
      "[Parallel(n_jobs=-1)]: Done   2 out of   5 | elapsed:    5.0s remaining:    7.5s\n",
      "[Parallel(n_jobs=-1)]: Done   5 out of   5 | elapsed:    5.1s finished\n"
     ]
    }
   ],
   "source": [
    "results = evaluation(data_train, target_train)"
   ]
  },
  {
   "cell_type": "code",
   "execution_count": 20,
   "metadata": {},
   "outputs": [
    {
     "name": "stdout",
     "output_type": "stream",
     "text": [
      "Training score R2: 0.872 +- 0.003\n",
      "Testing score R2: 0.116 +- 0.073 \n",
      "\n"
     ]
    }
   ],
   "source": [
    "print(\n",
    "    \"Training score R2: {:.3f} +- {:.3f}\".format(\n",
    "        np.mean(results[\"train_r2\"]), np.std(results[\"train_r2\"])\n",
    "    )\n",
    ")\n",
    "print(\n",
    "    \"Testing score R2: {:.3f} +- {:.3f} \\n\".format(\n",
    "        np.mean(results[\"test_r2\"]), np.std(results[\"test_r2\"])\n",
    "    )\n",
    ")"
   ]
  },
  {
   "cell_type": "code",
   "execution_count": null,
   "metadata": {},
   "outputs": [],
   "source": []
  }
 ],
 "metadata": {
  "kernelspec": {
   "display_name": "Python 3.10.9",
   "language": "python",
   "name": "python3"
  },
  "language_info": {
   "codemirror_mode": {
    "name": "ipython",
    "version": 3
   },
   "file_extension": ".py",
   "mimetype": "text/x-python",
   "name": "python",
   "nbconvert_exporter": "python",
   "pygments_lexer": "ipython3",
   "version": "3.10.9"
  },
  "orig_nbformat": 4,
  "vscode": {
   "interpreter": {
    "hash": "dd2b6aaa3a683f76f26992d05208cbaa201a7b0d4e856dc1315807640bca932b"
   }
  }
 },
 "nbformat": 4,
 "nbformat_minor": 2
}
